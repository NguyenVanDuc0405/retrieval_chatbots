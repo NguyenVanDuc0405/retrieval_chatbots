{
 "cells": [
  {
   "cell_type": "code",
   "execution_count": 2,
   "metadata": {},
   "outputs": [],
   "source": [
    "from sklearn.feature_extraction.text import TfidfVectorizer\n",
    "from sklearn.metrics.pairwise import cosine_similarity\n",
    "import numpy as np\n",
    "import pandas as pd\n",
    "import re\n"
   ]
  },
  {
   "cell_type": "code",
   "execution_count": 3,
   "metadata": {},
   "outputs": [],
   "source": [
    "# Tính toán Jaccard similarity\n",
    "def jaccard_similarity(query, document):\n",
    "    query_words = set(re.split(r'\\s+', query.lower().strip()))\n",
    "    doc_words = set(re.split(r'\\s+', document.lower().strip()))\n",
    "    intersection = query_words.intersection(doc_words)\n",
    "    union = query_words.union(doc_words)\n",
    "    return len(intersection) / len(union)"
   ]
  },
  {
   "cell_type": "code",
   "execution_count": 4,
   "metadata": {},
   "outputs": [
    {
     "name": "stdout",
     "output_type": "stream",
     "text": [
      "0      Nguyên tắc xét tuyển của học viện năm nay ntn?...\n",
      "1                       Câu hỏi thường gặp về tuyển sinh\n",
      "2      Chương trình đào tạo tại miền Nam có khác với ...\n",
      "3      Trường mình có 2 cơ sở, vậy sẽ phân bố học sin...\n",
      "4      Em đăng ký NV1 là ngành An toàn thông tin, NV2...\n",
      "                             ...                        \n",
      "866    Điểm chuẩn ngành công nghệ internet vạn vật nă...\n",
      "867    Điểm chuẩn ngành công nghệ internet vạn vật nă...\n",
      "868    Điểm chuẩn ngành công nghệ internet vạn vật nă...\n",
      "869    Điểm chuẩn ngành công nghệ internet vạn vật nă...\n",
      "870    Chỉ tiêu ngành công nghệ internet vạn vật năm ...\n",
      "Name: question, Length: 871, dtype: object\n"
     ]
    }
   ],
   "source": [
    "df = pd.read_csv('questions_answers.csv')\n",
    "\n",
    "# Tách câu hỏi và câu trả lời\n",
    "questions = df['question']\n",
    "answers = df['answer']\n",
    "print(questions)"
   ]
  },
  {
   "cell_type": "code",
   "execution_count": 5,
   "metadata": {},
   "outputs": [
    {
     "name": "stdout",
     "output_type": "stream",
     "text": [
      "Trước khi xử lý: Tôi đang học cntt và muốn tìm hiểu về ngành clc\n",
      "Sau khi xử lý: Tôi đang học công nghệ thông tin và muốn tìm hiểu về ngành chất lượng cao\n"
     ]
    }
   ],
   "source": [
    "# Tạo bộ từ điển các từ viết tắt\n",
    "abbreviation_dict = {\n",
    "    \"cntt\": \"công nghệ thông tin\",\n",
    "    \"attt\": \"an toàn thông tin\",\n",
    "    \"iot\": \"công nghệ internet vạn vật\",\n",
    "    \"fintech\": \"công nghệ tài chính\",\n",
    "    \"cndpt\": \"công nghệ đa phương tiện\",\n",
    "    \"ttdpt\": \"truyền thông đa phương tiện\",\n",
    "    \"qtkd\": \"quản trị kinh doanh\",\n",
    "    \"tmdt\": \"thương mại điện tử\",\n",
    "    \"khmt\": \"khoa học máy tính\",\n",
    "    \"clc\": \"chất lượng cao\",\n",
    "}\n",
    "\n",
    "# Hàm để thay thế các từ viết tắt trong câu bằng từ đầy đủ\n",
    "def replace_abbreviations(text, abbreviation_dict):\n",
    "    words = text.split()\n",
    "    new_words = []\n",
    "    for word in words:\n",
    "        if word in abbreviation_dict:\n",
    "            new_words.append(abbreviation_dict[word])\n",
    "        else:\n",
    "            new_words.append(word)\n",
    "    return ' '.join(new_words)\n",
    "\n",
    "# Ví dụ sử dụng\n",
    "user_input = \"Tôi đang học cntt và muốn tìm hiểu về ngành clc\"\n",
    "processed_input = replace_abbreviations(user_input, abbreviation_dict)\n",
    "\n",
    "print(\"Trước khi xử lý:\", user_input)\n",
    "print(\"Sau khi xử lý:\", processed_input)\n"
   ]
  },
  {
   "cell_type": "code",
   "execution_count": 6,
   "metadata": {},
   "outputs": [
    {
     "data": {
      "text/plain": [
       "'Chi tiết về     Xét tuyển tài năng'"
      ]
     },
     "execution_count": 6,
     "metadata": {},
     "output_type": "execute_result"
    }
   ],
   "source": [
    "import string\n",
    "\n",
    "def remove_punctuation(text):\n",
    "    return text.translate(str.maketrans('', '', string.punctuation))\n",
    "\n",
    "remove_punctuation(\"Chi tiết về     Xét tuyển tài năng?@\")"
   ]
  },
  {
   "cell_type": "code",
   "execution_count": 7,
   "metadata": {},
   "outputs": [
    {
     "data": {
      "text/plain": [
       "'chi tiết về     xét tuyển tài năng'"
      ]
     },
     "execution_count": 7,
     "metadata": {},
     "output_type": "execute_result"
    }
   ],
   "source": [
    "def to_lowercase(text):\n",
    "    return text.lower()\n",
    "to_lowercase('Chi tiết về     Xét tuyển tài năng')\n"
   ]
  },
  {
   "cell_type": "code",
   "execution_count": 8,
   "metadata": {},
   "outputs": [
    {
     "data": {
      "text/plain": [
       "'chi tiết về xét tuyển tài năng năm 2021 2022 2023'"
      ]
     },
     "execution_count": 8,
     "metadata": {},
     "output_type": "execute_result"
    }
   ],
   "source": [
    "def replace_comma(text):\n",
    "    return \" \".join(text.replace(',', ' ').split())\n",
    "replace_comma('chi tiết về     xét tuyển tài năng năm 2021, 2022,2023')\n"
   ]
  },
  {
   "cell_type": "code",
   "execution_count": 9,
   "metadata": {},
   "outputs": [
    {
     "name": "stderr",
     "output_type": "stream",
     "text": [
      "c:\\Users\\Admin\\AppData\\Local\\Programs\\Python\\Python310\\lib\\site-packages\\tqdm\\auto.py:21: TqdmWarning: IProgress not found. Please update jupyter and ipywidgets. See https://ipywidgets.readthedocs.io/en/stable/user_install.html\n",
      "  from .autonotebook import tqdm as notebook_tqdm\n"
     ]
    },
    {
     "data": {
      "text/plain": [
       "'chi_tiết về xét_tuyển tài_năng năm 2021 2022 2023'"
      ]
     },
     "execution_count": 9,
     "metadata": {},
     "output_type": "execute_result"
    }
   ],
   "source": [
    "from underthesea import word_tokenize\n",
    "def tokenizerText(text):\n",
    "    return word_tokenize(text, format=\"text\")\n",
    "tokenizerText('chi tiết về     xét tuyển tài năng năm 2021  2022 2023')"
   ]
  },
  {
   "cell_type": "code",
   "execution_count": 10,
   "metadata": {},
   "outputs": [
    {
     "data": {
      "text/plain": [
       "'hàng kém chất_lượng , chăn đắp lên dính lông lá khắp người . thất_vọng'"
      ]
     },
     "execution_count": 10,
     "metadata": {},
     "output_type": "execute_result"
    }
   ],
   "source": [
    "text = \"hàng kém chất lượng,chăn đắp lên dính lông lá khắp người. thất vọng\"\n",
    "tokenizerText(text)"
   ]
  },
  {
   "cell_type": "code",
   "execution_count": 11,
   "metadata": {},
   "outputs": [
    {
     "data": {
      "text/plain": [
       "'Đảm bảo chất lượng phòng thí nghiệm hóa học'"
      ]
     },
     "execution_count": 11,
     "metadata": {},
     "output_type": "execute_result"
    }
   ],
   "source": [
    "from underthesea import text_normalize\n",
    "text_normalize(\"Ðảm baỏ chất lựơng phòng thí nghịêm hoá học\")"
   ]
  },
  {
   "cell_type": "code",
   "execution_count": 12,
   "metadata": {},
   "outputs": [
    {
     "name": "stdout",
     "output_type": "stream",
     "text": [
      "{'dù_gì', 'biết_mình', 'biết_thế', 'cho_về', 'biết', 'là_phải', 'là_thế_nào', 'bao_nhiêu', 'là_là', 'cho_rằng', 'biết_đâu_chừng', 'bởi', 'dù_rằng', 'cho_tin', 'bao_lâu', 'bởi_vậy', 'biết_đâu_đấy', 'cho_rồi', 'bao_giờ', 'biết_chừng_nào', 'biết_trước', 'bị', 'bởi_chưng', 'cho_nên', 'ngay_thật', 'mấy', 'ngay_lúc_này', 'biết_chắc', 'bỗng_nhưng', 'hỏi', 'bởi_vì', 'bỗng_nhiên', 'làm_cho', 'là_cùng', 'bỗng_chốc', 'bỗng', 'bỗng_không', 'cho_tới_khi', 'bởi_thế_cho_nên', 'cho_nhau', 'ngay_tức_khắc', 'bấy_nhiêu', 'cho_chắc', 'biết_bao_nhiêu', 'tao', 'tôi', 'cho_được', 'bây_giờ', 'bởi_tại', 'biết_mấy', 'bỗng_đâu', 'cho_ăn', 'ngay_tức_thì', 'bây_nhiêu', 'cho_đến_khi', 'biết_đâu', 'bởi_ai', 'cho_đang', 'là_ít', 'về', 'cho_đến_nỗi', 'bởi_sao', 'ngay_cả', 'bởi_nhưng', 'bấy_lâu', 'là_nhiều', 'làm_bằng', 'dù_dì', 'cho', 'ngay_khi_đến', 'biết_được', 'bởi_đâu', 'bỗng_thấy', 'làm', 'ngay_khi', 'ngay_lúc', 'cho_đến', 'dù_cho', 'bấy_lâu_nay', 'biết_bao', 'dù_sao', 'bởi_thế', 'bỗng_dưng', 'bấy_giờ', 'là_vì', 'ngay_từ', 'cho_biết', 'là', 'cho_thấy', 'cho_tới', 'cho_hay', 'biết_việc', 'muốn', 'ngay_lập_tức', 'ngay_bây_giờ', 'bấy_nay'}\n",
      "96\n"
     ]
    }
   ],
   "source": [
    "# Khởi tạo tập hợp để lưu trữ các từ dừng\n",
    "stopwords = set()\n",
    "\n",
    "# Đọc từng hàng trong file stopwords.txt\n",
    "with open('stopwords.txt', 'r', encoding='utf-8') as fp:\n",
    "    for line in fp:\n",
    "        word = line.strip() # Loại bỏ khoảng trắng đầu và cuối dòng\n",
    "        if word:  # Kiểm tra xem dòng không rỗng\n",
    "            stopwords.add(word)\n",
    "\n",
    "# In danh sách các từ dừng\n",
    "print(stopwords)\n",
    "print(len(stopwords))\n"
   ]
  },
  {
   "cell_type": "code",
   "execution_count": 13,
   "metadata": {},
   "outputs": [
    {
     "name": "stdout",
     "output_type": "stream",
     "text": [
      "Điểm chuẩn ngành cntt theo phương_thức thi thpt 2023 là bao_nhiêu ?\n",
      "Điểm chuẩn ngành cntt theo phương_thức thi thpt 2023 ?\n"
     ]
    }
   ],
   "source": [
    "def remove_stopwords(line):\n",
    "    words = []\n",
    "    for word in line.split():\n",
    "        if word not in stopwords:\n",
    "            words.append(word)\n",
    "    return ' '.join(words)\n",
    "text = 'Điểm chuẩn ngành cntt theo phương thức thi thpt 2023 là bao nhiêu?'\n",
    "print(tokenizerText(text))\n",
    "print(remove_stopwords(tokenizerText(text)))"
   ]
  },
  {
   "cell_type": "code",
   "execution_count": 14,
   "metadata": {},
   "outputs": [],
   "source": [
    "def processing_text_for_db(text):\n",
    "    text = remove_punctuation(text)\n",
    "    text = to_lowercase(text)\n",
    "    text = replace_comma(text)\n",
    "    text = tokenizerText(text)\n",
    "    text = remove_stopwords(text)\n",
    "    return text"
   ]
  },
  {
   "cell_type": "code",
   "execution_count": 17,
   "metadata": {},
   "outputs": [
    {
     "name": "stdout",
     "output_type": "stream",
     "text": [
      "điểm chuẩn ngành công nghệ thông tin năm 2024\n",
      "điểm chuẩn ngành công_nghệ_thông_tin năm 2024\n"
     ]
    }
   ],
   "source": [
    "def processing_text_for_db_rerank(text):\n",
    "    text = remove_punctuation(text)\n",
    "    text = to_lowercase(text)\n",
    "    text = replace_comma(text)\n",
    "    return text\n",
    "print(processing_text_for_db_rerank(\"Điểm chuẩn ngành Công Nghệ    thông tin năm 2024?\"))\n",
    "print(processing_text_for_db(\"Điểm chuẩn ngành Công Nghệ    thông tin năm 2024?\"))"
   ]
  },
  {
   "cell_type": "code",
   "execution_count": 53,
   "metadata": {},
   "outputs": [],
   "source": [
    "def processing_text_for_query(text):\n",
    "    text = remove_punctuation(text)\n",
    "    text = to_lowercase(text)\n",
    "    text = replace_comma(text)\n",
    "    text = replace_abbreviations(text, abbreviation_dict)\n",
    "    text = tokenizerText(text)\n",
    "    text = remove_stopwords(text)\n",
    "    return text"
   ]
  },
  {
   "cell_type": "markdown",
   "metadata": {},
   "source": [
    "Demo preprocessing question"
   ]
  },
  {
   "cell_type": "code",
   "execution_count": 54,
   "metadata": {},
   "outputs": [
    {
     "name": "stdout",
     "output_type": "stream",
     "text": [
      "điểm chuẩn ngành công_nghệ_thông_tin chất_lượng cao năm 2023 theo phương_thức thi thpt tại cơ_sở miền bắc\n",
      "mã ngành của ngành quản_trị kinh_doanh\n"
     ]
    }
   ],
   "source": [
    "q = \"Điểm chuẩn ngành cntt clc năm 2023 theo phương thức thi thpt tại cơ sở miền bắc   là bao   nhiêu ?!$\"\n",
    "q1 = \"mã ngành của ngành qtkd là bao nhiêu.\"\n",
    "print(processing_text_for_query(q))\n",
    "print(processing_text_for_query(q1))\n",
    "\n"
   ]
  },
  {
   "cell_type": "code",
   "execution_count": 55,
   "metadata": {},
   "outputs": [
    {
     "name": "stdout",
     "output_type": "stream",
     "text": [
      "858\n",
      "                                            question  \\\n",
      "0  Nguyên tắc xét tuyển của học viện năm nay ntn?...   \n",
      "1                   Câu hỏi thường gặp về tuyển sinh   \n",
      "2  Chương trình đào tạo tại miền Nam có khác với ...   \n",
      "3  Trường mình có 2 cơ sở, vậy sẽ phân bố học sin...   \n",
      "4  Em đăng ký NV1 là ngành An toàn thông tin, NV2...   \n",
      "\n",
      "                                              answer  \\\n",
      "0  I. Xét tuyển dựa vào kết quả thi THPT 2024:\\n-...   \n",
      "1                            Bạn đang gặp vấn đề gì?   \n",
      "2  Chương trình đào tạo của Học viện được áp dụng...   \n",
      "3  Chỉ tiêu đào tạo của từng cơ sở đã được Học vi...   \n",
      "4  Không được em nhé! Theo nguyên tắc xét tuyển t...   \n",
      "\n",
      "                                  processed_question  \n",
      "0  nguyên_tắc xét_tuyển của học_viện năm nay ntn ...  \n",
      "1                          câu thường gặp tuyển_sinh  \n",
      "2  chương_trình đào_tạo tại miền nam có khác với ...  \n",
      "3  trường mình có 2 cơ_sở vậy sẽ phân_bố học_sinh...  \n",
      "4  em đăng_ký nv1 ngành an_toàn thông_tin nv2 ngà...  \n"
     ]
    }
   ],
   "source": [
    "processed_questions = []\n",
    "for question in questions:  # Sử dụng tqdm để theo dõi tiến trình nếu cần\n",
    "    # Áp dụng các hàm tiền xử lý\n",
    "    processed_text = processing_text_for_db(question)\n",
    "   \n",
    "    # Lưu kết quả vào list processed_questions\n",
    "    processed_questions.append(processed_text)\n",
    "\n",
    "# Thêm cột mới vào DataFrame hoặc ghi đè lên cột 'question' hiện tại\n",
    "df['processed_question'] = processed_questions\n",
    "\n",
    "print(len(df))\n",
    "# In ra vài dòng đầu của DataFrame sau khi đã tiền xử lý\n",
    "print(df.head())"
   ]
  },
  {
   "cell_type": "code",
   "execution_count": 2,
   "metadata": {},
   "outputs": [
    {
     "name": "stderr",
     "output_type": "stream",
     "text": [
      "Some weights of RobertaModel were not initialized from the model checkpoint at vinai/phobert-base-v2 and are newly initialized: ['roberta.pooler.dense.bias', 'roberta.pooler.dense.weight']\n",
      "You should probably TRAIN this model on a down-stream task to be able to use it for predictions and inference.\n",
      "c:\\Users\\Admin\\AppData\\Local\\Programs\\Python\\Python310\\lib\\site-packages\\huggingface_hub\\file_download.py:1132: FutureWarning: `resume_download` is deprecated and will be removed in version 1.0.0. Downloads always resume when possible. If you want to force a new download, use `force_download=True`.\n",
      "  warnings.warn(\n"
     ]
    }
   ],
   "source": [
    "import torch\n",
    "from transformers import AutoModel, AutoTokenizer\n",
    "\n",
    "phobert = AutoModel.from_pretrained(\"vinai/phobert-base-v2\")\n",
    "tokenizer = AutoTokenizer.from_pretrained(\"vinai/phobert-base-v2\")\n",
    "\n",
    "# Function to encode each question into vector representation\n",
    "def encode_question(question):\n",
    "   # Tokenize và chuyển đổi câu văn bản thành tensor\n",
    "    tokens = tokenizer(question, return_tensors='pt', padding=True, truncation=True)\n",
    "\n",
    "    # Sử dụng model để mã hóa câu văn bản thành vector\n",
    "    with torch.no_grad():\n",
    "        output = phobert(**tokens)\n",
    "\n",
    "    # Lấy vector biểu diễn từ outputs của model\n",
    "    return output.last_hidden_state.mean(dim=1).numpy()  # Trung bình các vector token\n",
    "\n",
    "\n"
   ]
  },
  {
   "cell_type": "code",
   "execution_count": 57,
   "metadata": {},
   "outputs": [
    {
     "name": "stderr",
     "output_type": "stream",
     "text": [
      "Asking to truncate to max_length but no maximum length is provided and the model has no predefined maximum length. Default to no truncation.\n"
     ]
    },
    {
     "name": "stdout",
     "output_type": "stream",
     "text": [
      "                                            question  \\\n",
      "0  Nguyên tắc xét tuyển của học viện năm nay ntn?...   \n",
      "1                   Câu hỏi thường gặp về tuyển sinh   \n",
      "2  Chương trình đào tạo tại miền Nam có khác với ...   \n",
      "3  Trường mình có 2 cơ sở, vậy sẽ phân bố học sin...   \n",
      "4  Em đăng ký NV1 là ngành An toàn thông tin, NV2...   \n",
      "\n",
      "                                              answer  \\\n",
      "0  I. Xét tuyển dựa vào kết quả thi THPT 2024:\\n-...   \n",
      "1                            Bạn đang gặp vấn đề gì?   \n",
      "2  Chương trình đào tạo của Học viện được áp dụng...   \n",
      "3  Chỉ tiêu đào tạo của từng cơ sở đã được Học vi...   \n",
      "4  Không được em nhé! Theo nguyên tắc xét tuyển t...   \n",
      "\n",
      "                                  processed_question  \\\n",
      "0  nguyên_tắc xét_tuyển của học_viện năm nay ntn ...   \n",
      "1                          câu thường gặp tuyển_sinh   \n",
      "2  chương_trình đào_tạo tại miền nam có khác với ...   \n",
      "3  trường mình có 2 cơ_sở vậy sẽ phân_bố học_sinh...   \n",
      "4  em đăng_ký nv1 ngành an_toàn thông_tin nv2 ngà...   \n",
      "\n",
      "                                     question_vector  \n",
      "0  [[0.15568478, 0.21654901, -0.0496444, 0.012475...  \n",
      "1  [[0.20180584, 0.42137936, -0.23412263, -0.4815...  \n",
      "2  [[0.16127539, 0.073697686, -0.018715281, -0.06...  \n",
      "3  [[0.061912958, 0.16422938, -0.0068069426, -0.0...  \n",
      "4  [[0.091824554, 0.059234068, -0.09526686, -0.09...  \n"
     ]
    }
   ],
   "source": [
    "df['question_vector'] = df['processed_question'].apply(encode_question)\n",
    "print(df.head())\n"
   ]
  },
  {
   "cell_type": "code",
   "execution_count": 58,
   "metadata": {},
   "outputs": [
    {
     "name": "stdout",
     "output_type": "stream",
     "text": [
      "điểm chuẩn ngành an_toàn thông_tin theo phương_thức thi thpt 2023 miền bắc\n",
      "(1, 768)\n",
      "[[ 2.33505383e-01  9.27157551e-02 -1.87626928e-01 -1.44157320e-01\n",
      "  -1.40480623e-01  1.02259435e-01  5.98974600e-02  1.39165312e-01\n",
      "  -1.60667598e-01  8.39552060e-02 -1.43745929e-01  1.78501070e-01\n",
      "   1.47883054e-02 -1.41717300e-01 -5.08329198e-02  3.44799161e-02\n",
      "  -7.32005313e-02  2.64150113e-01  2.00316235e-01 -1.04688317e-01\n",
      "  -1.74132988e-01  1.70892015e-01  5.68007939e-02  3.94880831e-01\n",
      "  -1.37368724e-01 -1.05723284e-01  5.83432661e-03  1.82094187e-01\n",
      "  -1.40878633e-01 -1.37640446e-01 -1.15896396e-01 -2.41887599e-01\n",
      "  -1.12938456e-01  2.01233402e-01  3.76158327e-01  4.25440669e-01\n",
      "  -6.14149757e-02 -4.31861244e-02  1.69253424e-01  3.26822139e-02\n",
      "  -9.64203756e-03  2.82292366e-01  1.75632238e-02 -9.13411677e-02\n",
      "   2.41848126e-01  1.47984669e-01  3.81541848e-02  1.04409389e-01\n",
      "   2.32662205e-02  2.03086957e-01  2.37838641e-01  2.93926030e-01\n",
      "   5.60786799e-02  3.86773139e-01  8.71510431e-02  1.71963349e-01\n",
      "   1.12631759e-02 -3.00334454e-01  2.52413869e-01  3.17277819e-01\n",
      "   2.10523739e-01 -4.92083013e-01 -1.47130489e-01  1.29181683e-01\n",
      "  -2.43996773e-02 -3.87211181e-02 -2.49839779e-02  1.41750202e-01\n",
      "  -9.30558294e-02  1.05830573e-01  4.82705906e-02  1.32371977e-01\n",
      "   1.72251388e-01 -2.78651834e-01 -1.22068338e-01  2.11860940e-01\n",
      "  -5.82790822e-02  4.65224870e-02  6.73855469e-02 -1.13701805e-01\n",
      "   1.95307553e-01  7.74039254e-02  2.89389879e-01 -6.70609903e-03\n",
      "  -1.22122064e-01  1.78788319e-01 -1.60245150e-01  8.20073336e-02\n",
      "  -8.45218822e-02 -1.56971272e-02  7.63644129e-02  6.05805889e-02\n",
      "   1.32788271e-01  2.28326380e-01  2.20548049e-01 -9.61266551e-03\n",
      "   1.24794103e-01 -6.56459406e-02  3.62034470e-01 -1.65836383e-02\n",
      "  -2.25795031e-01  1.84551045e-01  2.04496011e-01 -1.62095368e-01\n",
      "   1.50097832e-01 -9.78003591e-02  2.24206313e-01  6.84070885e-02\n",
      "  -7.28055760e-02  2.09852740e-01  3.55872571e-01  1.60455957e-01\n",
      "  -1.50219286e-02 -1.32915065e-01 -6.79885447e-02  1.98030382e-01\n",
      "  -5.68716750e-02  3.68064009e-02  1.86275572e-01  2.57059410e-02\n",
      "  -1.73178777e-01  2.04365641e-01 -2.03491122e-01  6.06238134e-02\n",
      "  -5.01015298e-02 -5.14526404e-02  1.29470855e-01  5.68091795e-02\n",
      "   2.60508917e-02  1.50408223e-01 -9.59232301e-02 -3.76398653e-01\n",
      "  -5.98625168e-02 -2.88327574e-03 -1.16024844e-01  3.07302773e-01\n",
      "   8.12939331e-02  4.42228317e-02 -1.51922226e-01 -2.07109854e-01\n",
      "  -1.36808053e-01  5.26714742e-01 -1.09658286e-01  4.42774981e-01\n",
      "   2.12684631e-01 -1.49075106e-01  1.53231904e-01 -1.75743885e-02\n",
      "  -9.24033765e-03 -1.07357234e-01  3.10770161e-02  6.12692796e-02\n",
      "   5.30683734e-02  9.38602611e-02 -1.00336760e-01 -2.27224007e-01\n",
      "   8.16693529e-02  7.98890740e-02 -6.47216961e-02  2.24506661e-01\n",
      "   3.09809688e-02  1.37056440e-01  1.64908186e-01  1.42390996e-01\n",
      "   3.89086269e-02 -4.18606140e-02  9.03003290e-02  5.34667587e-03\n",
      "   1.05809793e-01  1.18386418e-01  3.98915373e-02 -4.85544614e-02\n",
      "   1.93078756e-01  6.89494163e-02  3.07048976e-01 -5.29806549e-03\n",
      "  -1.84755791e-02 -2.40922347e-01  4.50840555e-02 -1.63847610e-01\n",
      "   9.59179327e-02  1.88096732e-01  1.05210640e-01  3.74292536e-03\n",
      "  -6.98450729e-02  3.85032296e-02 -2.77224034e-01  1.79576874e-03\n",
      "   3.78924832e-02  5.20832501e-02  3.22819203e-02  6.23022057e-02\n",
      "  -1.49416178e-01 -1.31865531e-01  2.26594657e-01  1.16973184e-01\n",
      "   7.84656331e-02  1.26420394e-01 -4.21663709e-02  7.77299553e-02\n",
      "   1.52028650e-01 -1.45580545e-01  2.89521247e-01  2.31347885e-02\n",
      "   8.56726468e-02 -2.68684328e-01 -1.99833140e-01 -5.83460554e-02\n",
      "   1.87513027e-02  6.89003617e-02  1.33253396e-01  6.98935539e-02\n",
      "  -1.85519811e-02 -4.27772477e-02 -1.11480542e-01  1.67125329e-01\n",
      "   4.65499014e-02 -2.23571882e-01  3.12356986e-02 -1.23163633e-01\n",
      "  -1.03329293e-01 -8.89136866e-02  1.74814805e-01  9.23657045e-03\n",
      "   4.69328612e-02  2.85808533e-01  3.90532285e-01 -2.53987312e-02\n",
      "  -8.16374496e-02 -1.01588324e-01  6.66253567e-02  6.61451519e-02\n",
      "   5.72590008e-02 -4.89055365e-02 -5.44884801e-02 -1.00223221e-01\n",
      "  -8.43053870e-03 -1.35923192e-01  1.11741405e-02  4.05240133e-02\n",
      "  -1.22325264e-01  4.33745794e-02  1.26693606e-01 -9.50253382e-02\n",
      "   6.13307953e-02  2.96127498e-01  1.17268227e-01  7.83689246e-02\n",
      "  -4.97641057e-01  1.79216966e-01  6.84907585e-02  2.10033730e-01\n",
      "  -2.41758376e-01  5.53021543e-02 -1.03005273e-02  1.32872863e-02\n",
      "  -3.64820398e-02  2.52986848e-01 -2.57771313e-01 -1.97956532e-01\n",
      "   3.45093571e-02  4.71085086e-02  8.72256532e-02  1.64384976e-01\n",
      "  -1.19333148e-01  2.60364842e-02  3.07411253e-01 -3.19959074e-01\n",
      "  -1.51508197e-01  1.37639835e-01  3.13123316e-01  2.03958005e-01\n",
      "  -8.59494433e-02 -1.87512115e-02  2.94631511e-01  6.61479980e-02\n",
      "  -2.42650677e-02  6.29237890e-01 -1.91886444e-02 -2.66793054e-02\n",
      "   2.56682843e-01  2.72882301e-02 -6.98566958e-02 -1.56010792e-01\n",
      "   3.14099461e-01 -1.74755633e-01  2.22289816e-01  1.13230191e-01\n",
      "  -2.62563407e-01 -4.24746536e-02  8.06136336e-03  2.54292730e-02\n",
      "   6.06746078e-02  2.55715451e-03 -2.24981899e-03  2.88714051e-01\n",
      "   1.34584591e-01 -6.27760515e-02  1.37060329e-01 -1.72972567e-02\n",
      "  -4.34475429e-02 -7.87567720e-02  2.57454813e-02 -1.53828204e-01\n",
      "   7.88221285e-02  3.72997552e-01 -8.51607844e-02  4.63953242e-02\n",
      "   2.95563899e-02 -1.13908865e-01  1.10175731e-02 -6.46262318e-02\n",
      "   1.29584268e-01  1.15725473e-01 -2.39951298e-01 -1.18970908e-02\n",
      "   3.27831618e-02 -3.03461820e-01 -2.86245197e-01 -6.39321953e-02\n",
      "  -7.65926316e-02 -8.46740827e-02 -5.02292998e-02 -6.71393052e-02\n",
      "   1.61592513e-01  2.30126623e-02  1.03335589e-01  2.03679889e-01\n",
      "  -1.90281481e-01 -1.09119326e-01  2.24139079e-01 -2.17792317e-01\n",
      "   4.18679905e-04 -1.18217453e-01  1.19918846e-01 -6.36780635e-02\n",
      "  -2.11853445e-01  5.75750321e-02 -5.55958509e-01 -1.78344712e-01\n",
      "   2.02798203e-01  6.04879484e-02  7.46220797e-02  3.71655285e-01\n",
      "   4.04881597e-01  3.63019481e-02  1.34838969e-01  2.88274251e-02\n",
      "  -3.51506233e-01  2.83005107e-02  7.68426806e-02  1.69542953e-01\n",
      "   3.92144732e-02 -1.78009823e-01 -5.40541224e-02 -1.81106821e-01\n",
      "  -9.95638408e-03 -6.12540450e-03 -2.91064996e-02 -1.02158286e-01\n",
      "   1.76587805e-01  3.68763283e-02 -1.69592127e-01  1.35135561e-01\n",
      "  -3.49158049e-02 -8.20859894e-02  1.27836511e-01  2.92262882e-01\n",
      "  -1.15906652e-02  3.94611694e-02  1.89798493e-02  1.00195244e-01\n",
      "  -5.08850589e-02 -4.19105999e-02 -1.59177318e-01 -1.24566935e-01\n",
      "   1.75065681e-01 -1.56488970e-01  1.47257790e-01  1.48009390e-01\n",
      "   3.49892229e-02  1.15333870e-01  1.98305666e-01  2.39348218e-01\n",
      "   7.85884112e-02 -1.24149054e-01 -1.65738329e-01 -1.39302790e-01\n",
      "  -2.14079693e-02  1.47512987e-01 -8.34777765e-03  5.41571155e-02\n",
      "  -5.35990112e-02  1.38910711e-01 -9.67534930e-02 -1.71441630e-01\n",
      "   2.55285297e-02 -5.72800003e-02 -1.99977964e-01  1.25564143e-01\n",
      "   2.19624773e-01  1.92994121e-02  1.25227496e-01  6.68559596e-02\n",
      "   3.14261280e-02 -4.81344350e-02  1.60285026e-01  2.12886631e-01\n",
      "  -1.82045460e-01 -5.06206357e-04 -2.51875341e-01  2.90317655e-01\n",
      "  -9.62737948e-02  1.98940381e-01  5.67091536e-03 -3.11252713e-01\n",
      "  -2.64867097e-01 -2.12695971e-02  2.20831677e-01  7.11121410e-02\n",
      "   2.44726148e-03 -3.58287454e-01  4.04395862e-03 -2.61347711e-01\n",
      "   4.01096016e-01  2.26464406e-01 -4.84604202e-03  2.23662890e-02\n",
      "   1.19215317e-01 -6.02974035e-02  4.73130271e-02 -1.40211657e-01\n",
      "   4.09127414e-01 -2.00555712e-01  1.08861178e-01  2.75854975e-01\n",
      "  -2.30547845e-01  1.43541824e-02 -3.56748002e-03 -3.72333638e-02\n",
      "   2.06028357e-01  3.12657863e-01 -1.02690347e-02  3.55963898e-03\n",
      "   4.87039052e-02 -1.49063274e-01  3.11271638e-01  2.40172356e-01\n",
      "  -1.34586962e-02  5.33528626e-03  5.57123199e-02  1.10479988e-01\n",
      "   5.17975762e-02 -5.75103052e-02 -7.66015705e-03  1.51867405e-01\n",
      "  -2.27819353e-01  2.62374371e-01 -1.26564305e-03  6.90737646e-03\n",
      "  -2.61464398e-02  1.61846861e-01  1.47202939e-01  3.48432623e-02\n",
      "   2.33878195e-01  2.15693444e-01  1.27330288e-01  1.76974922e-01\n",
      "  -1.47530407e-01  8.75217840e-02 -7.69028217e-02  1.70289293e-01\n",
      "   1.51879236e-01 -1.79602519e-01  2.26569939e-02  3.20789009e-01\n",
      "   2.62725294e-01 -4.20157649e-02 -1.39615223e-01  9.14479420e-02\n",
      "   4.54151146e-02 -5.49382716e-02  2.25014493e-01  1.40074408e-02\n",
      "   1.53248273e-02  7.98330680e-02  6.92497566e-02 -1.78930908e-01\n",
      "  -3.24220583e-02 -1.82419010e-02  1.27563030e-01  4.71051820e-02\n",
      "   1.73693657e-01 -6.05921708e-02 -1.18941151e-01  2.08969846e-01\n",
      "  -2.17729434e-01  9.19662789e-02 -5.09968214e-02  2.49054041e-02\n",
      "   4.18727472e-02  7.79406875e-02  1.46838918e-03  1.03552707e-01\n",
      "   1.67275846e-01  1.92768008e-01  5.23463078e-03 -1.05566591e-01\n",
      "  -8.38868991e-02 -5.25815263e-02  3.45224217e-02  1.12520143e-01\n",
      "  -2.22899448e-02 -6.30704537e-02 -1.97987452e-01  6.22032695e-02\n",
      "   4.42032702e-02  9.24806446e-02  1.33107200e-01  1.26214186e-02\n",
      "   2.53221929e-01 -1.11256717e-02  1.12329416e-01 -1.17652655e-01\n",
      "  -2.00809941e-01 -3.60945873e-02 -1.70665413e-01 -1.79690063e-01\n",
      "   1.99369833e-01  8.33383128e-02 -1.97771918e-02  2.61836946e-01\n",
      "   3.10474169e-02  1.09981671e-01  5.01174144e-02  2.41746828e-02\n",
      "   1.67978451e-01 -6.61202297e-02 -6.64263293e-02  6.97191134e-02\n",
      "  -3.53162214e-02  5.33460975e-02  6.22817092e-02 -1.61419719e-01\n",
      "  -7.86109865e-02 -7.89749324e-02  3.80816549e-01  2.07703754e-01\n",
      "  -6.65457770e-02  8.11260045e-02 -1.69093877e-01 -7.28304535e-02\n",
      "  -3.24858120e-03  1.38895765e-01 -5.23940101e-02 -1.67074233e-01\n",
      "  -8.14489126e-02 -3.27782286e-03  2.05998510e-01 -2.22476304e-01\n",
      "  -8.21290016e-02  4.64033708e-02 -2.83427592e-02 -3.15932557e-02\n",
      "  -1.49385482e-01 -1.31459206e-01 -4.16559391e-02  1.90684184e-01\n",
      "   5.88768274e-02  1.42705679e-01 -1.16890162e-01  4.40002710e-01\n",
      "   8.99674073e-02  6.62914589e-02 -6.15592338e-02  1.14775605e-01\n",
      "  -1.42208591e-01 -4.21871152e-03  2.04252720e-01  4.26560231e-02\n",
      "  -1.61699519e-01 -1.40759960e-01  1.42086325e-02 -9.10524055e-02\n",
      "   1.57340825e-01  6.23417534e-02  3.95322442e-02  2.46349826e-01\n",
      "  -1.78152457e-01 -3.81893180e-02  1.48389757e+00  3.79994571e-01\n",
      "  -9.12673697e-02 -8.12144205e-02  4.22763258e-01 -6.16782568e-02\n",
      "   2.81114250e-01  3.54297131e-01  2.42899239e-01 -4.47057448e-02\n",
      "   1.62895788e-02  1.21035084e-01  4.91580032e-02  9.42002162e-02\n",
      "   1.93943664e-01  8.82360116e-02 -6.38452396e-02 -4.13892120e-02\n",
      "   3.02713867e-02  1.58253387e-01 -9.57892060e-01  1.53588951e-01\n",
      "   2.20676109e-01 -1.28842503e-01  8.72431919e-02 -5.49817421e-02\n",
      "   1.21305458e-01 -7.20074922e-02  3.00706979e-02  1.26743704e-01\n",
      "  -8.72127339e-02  2.98822284e-01 -1.88952178e-01  3.97551470e-02\n",
      "   8.97725523e-02  2.27334753e-01  2.08843216e-01  3.30193550e-03\n",
      "   7.25254789e-02 -5.79068735e-02  1.99776858e-01  3.25169340e-02\n",
      "  -5.09746149e-02 -2.44643018e-02  2.42130488e-01 -2.34856546e-01\n",
      "  -2.06705574e-02  8.91037509e-02 -2.02061042e-01 -4.41547707e-02\n",
      "  -1.11700654e-01 -2.15902347e-02  3.11045926e-02 -2.25800380e-01\n",
      "   2.39459172e-04  3.20173562e-01  1.55528799e-01 -5.56771122e-02\n",
      "   6.79984391e-02 -1.71033815e-02  1.24108158e-02  2.61253268e-01\n",
      "   1.96337095e-03  1.21696793e-01 -3.78133282e-02 -3.78654338e-02\n",
      "  -1.42557565e-02 -1.27872482e-01  3.10809135e-01  8.99870470e-02\n",
      "  -2.39597335e-01 -4.64381352e-02  2.42586106e-01  1.49739996e-01\n",
      "  -5.37485583e-03 -1.95244893e-01 -1.54001549e-01  2.28111476e-01\n",
      "   2.13937715e-01  8.64826143e-02 -1.05354719e-01  1.19405344e-01\n",
      "   1.19869508e-01  1.60016522e-01  2.05820039e-01 -8.10903758e-02\n",
      "  -1.31081626e-01 -6.92633837e-02 -1.00536667e-01  1.77735999e-01\n",
      "  -1.75568745e-01 -1.58537515e-02  1.49776801e-01  2.62954772e-01\n",
      "   1.92037717e-01 -1.15726717e-01  1.40204906e-01  2.06632391e-02\n",
      "  -7.42353201e-02  1.49139971e-01 -1.26380578e-01 -6.86564073e-02\n",
      "   1.25326470e-01  7.92468861e-02  2.03548949e-02  1.33149087e-01\n",
      "   3.55993509e-02 -4.18973118e-02 -1.47244647e-01  4.50365283e-02\n",
      "   1.74491361e-01 -1.57585088e-02  2.38096371e-01 -1.20630730e-02\n",
      "   3.71515863e-02 -1.88698784e-01 -5.75452261e-02  1.49559051e-01\n",
      "  -2.87109643e-01  1.45559847e-01  1.92222148e-01 -1.29599005e-01\n",
      "   7.23982602e-02  2.92942137e-03  2.97373712e-01 -2.51847178e-01\n",
      "   2.09281921e-01  7.15510845e-02 -1.27436534e-01 -8.47294834e-03\n",
      "  -2.42946371e-01 -7.03635393e-03  1.98293865e-01 -1.12212375e-01\n",
      "   2.50613242e-01 -6.86897784e-02 -6.65437197e-03  1.92743056e-02\n",
      "   7.72574767e-02  2.02621013e-01  2.05266967e-01  7.85680786e-02\n",
      "   1.11534514e-01  1.68138400e-01 -6.91369250e-02  1.35960788e-01\n",
      "  -1.30951717e-01  2.45268196e-01 -1.46541120e-02 -1.29924506e-01\n",
      "  -6.75686836e-01  1.09097674e-01  4.21489298e-01  9.00867730e-02\n",
      "  -1.89827502e-01  2.91740328e-01  2.06670254e-01 -1.28961399e-01\n",
      "  -1.05740018e-01  1.44859254e-01  6.65496439e-02  4.12463248e-01\n",
      "   9.48083550e-02 -5.26479073e-02  7.47235492e-02 -2.64570624e-01\n",
      "  -9.81350467e-02  2.66324311e-01 -2.05023661e-01  6.66684518e-03\n",
      "   1.30129218e-01  6.93232715e-02 -6.47882223e-02 -5.49927726e-02\n",
      "  -3.61992493e-02  2.98812296e-02  1.10520318e-01  2.09704265e-01]]\n"
     ]
    }
   ],
   "source": [
    "query = \"Điểm chuẩn ngành an toàn thông tin theo phương thức thi thpt 2023 miền bắc?\"\n",
    "processed_query = processing_text_for_query(query)\n",
    "print(processed_query)\n",
    "query_vector = encode_question(processed_query)\n",
    "print(query_vector.shape)\n",
    "print(query_vector)\n"
   ]
  },
  {
   "cell_type": "code",
   "execution_count": 59,
   "metadata": {},
   "outputs": [
    {
     "name": "stdout",
     "output_type": "stream",
     "text": [
      "điểm chuẩn ngành công_nghệ_thông_tin năm 2023 công_nghệ_thông_tin năm 2023 công_nghệ_thông_tin năm 2023 công_nghệ_thông_tin năm 2023 miền nam bắc trung theo thpt tại miền bắc\n",
      "0.87668\n"
     ]
    }
   ],
   "source": [
    "query = \"Điểm chuẩn ngành cntt năm 2023 cntt năm 2023 cntt năm 2023 cntt năm 2023 miền nam, bắc, trung theo thpt tại miền bắc \"\n",
    "processed_query = processing_text_for_query(query)\n",
    "print(processed_query)\n",
    "query_vector = encode_question(processed_query)\n",
    "\n",
    "cosine_similarities = [cosine_similarity(\n",
    "        query_vector, qv).flatten() for qv in df['question_vector']]\n",
    "\n",
    "best_match_index = np.argmax(cosine_similarities)\n",
    "print(np.max(cosine_similarities))\n",
    "\n"
   ]
  },
  {
   "cell_type": "code",
   "execution_count": 60,
   "metadata": {},
   "outputs": [],
   "source": [
    "from transformers import pipeline\n",
    "\n",
    "corrector = pipeline(\"text2text-generation\", model=\"bmd1905/vietnamese-correction\")\n"
   ]
  },
  {
   "cell_type": "code",
   "execution_count": 61,
   "metadata": {},
   "outputs": [
    {
     "name": "stdout",
     "output_type": "stream",
     "text": [
      "- Điểm chuẩn ngành công nghệ thông tin năm 2024 2025 .\n"
     ]
    }
   ],
   "source": [
    "from model import correction_model\n",
    "# Example\n",
    "MAX_LENGTH = 512\n",
    "\n",
    "# Define the text samples\n",
    "texts = [\n",
    "    \"điểm chuẩn ngành coongg nghệ thông tin namw 2024 2025 \",\n",
    "    \n",
    "\n",
    "]\n",
    "\n",
    "# Batch prediction\n",
    "predictions = correction_model(texts, MAX_LENGTH)\n",
    "\n",
    "# Print predictions\n",
    "for text, pred in zip(texts, predictions):\n",
    "    print(\"- \" + pred['generated_text'])\n"
   ]
  },
  {
   "cell_type": "code",
   "execution_count": 62,
   "metadata": {},
   "outputs": [],
   "source": [
    "# import pandas as pd\n",
    "# import numpy as np\n",
    "# df = pd.read_csv('embeddings.csv', converters={\n",
    "#     'vector_embeddings': lambda x: np.fromstring(x.strip('[]'), sep=' ')\n",
    "# })\n",
    "# embeddings = np.vstack(df['vector_embeddings'])"
   ]
  },
  {
   "cell_type": "code",
   "execution_count": 63,
   "metadata": {},
   "outputs": [],
   "source": [
    "# embeddings.shape\n"
   ]
  },
  {
   "cell_type": "code",
   "execution_count": 64,
   "metadata": {},
   "outputs": [],
   "source": [
    "# from qdrant_client import QdrantClient\n",
    "# from qdrant_client.models import PointStruct,VectorParams\n",
    "\n",
    "# # Kết nối tới Qdrant\n",
    "# client = QdrantClient(\":memory:\")\n",
    "# # Cấu hình vector\n",
    "# vectors_config = VectorParams(size=embeddings.shape[1], distance=\"Cosine\")\n",
    "# # Tạo một collection trong Qdrant\n",
    "# collection_name = \"embeddings_qa\"\n",
    "# client.recreate_collection(collection_name=collection_name, vectors_config=vectors_config)\n",
    "\n",
    "# # Kiểm tra xem collection có tồn tại hay không\n",
    "# collections = client.get_collections().collections\n",
    "# collection_names = [col.name for col in collections]\n",
    "# print(\"Available collections:\", collection_names)\n",
    "\n",
    "# if collection_name not in collection_names:\n",
    "#     raise ValueError(f\"Collection {collection_name} not found after creation.\")\n",
    "# # Chuẩn bị các điểm (points) để thêm vào Qdrant\n",
    "# points = [\n",
    "#     PointStruct(id=i, vector=embedding.tolist(), payload={\"text\": df['question'][i]})\n",
    "#     for i, embedding in enumerate(embeddings)\n",
    "# ]\n",
    "\n",
    "# # Thêm các điểm vào Qdrant\n",
    "# client.upsert(collection_name=collection_name, points=points)\n"
   ]
  },
  {
   "cell_type": "code",
   "execution_count": 65,
   "metadata": {},
   "outputs": [],
   "source": [
    "# from model import embeddings\n",
    "# from preprocess import processing_text_for_query\n",
    "\n",
    "# # Kết nối tới Qdrant\n",
    "# # client = QdrantClient(\":memory:\")\n",
    "# # Tạo embedding cho câu truy vấn\n",
    "# query_sentence = \"học phí ngành cntt\"\n",
    "# query_sentence = processing_text_for_query(query_sentence)\n",
    "# query_embedding=embeddings(query_sentence)\n",
    "\n",
    "# # Truy vấn Qdrant\n",
    "# search_result = client.search(\n",
    "#     collection_name='embeddings_qa',\n",
    "#     query_vector=query_embedding.tolist()[0],  # Chuyển đổi thành danh sách\n",
    "#     limit=10  # Số lượng kết quả trả về\n",
    "# )\n",
    "\n",
    "# # In ra các câu gốc tương ứng với các kết quả tìm được\n",
    "# for result in search_result:\n",
    "#     print(f\"ID: {result.id}\")\n",
    "#     print(f\"Score: {result.score}\")\n",
    "#     print(f\"Payload: {result.payload}\")\n",
    "#     print(\"---\")\n"
   ]
  },
  {
   "cell_type": "code",
   "execution_count": 20,
   "metadata": {},
   "outputs": [],
   "source": [
    "from transformers import AutoModelForSequenceClassification\n",
    "model = AutoModelForSequenceClassification.from_pretrained(\n",
    "        'jinaai/jina-reranker-v2-base-multilingual',\n",
    "        torch_dtype=\"auto\",\n",
    "        trust_remote_code=True,\n",
    ")\n"
   ]
  },
  {
   "cell_type": "code",
   "execution_count": 25,
   "metadata": {},
   "outputs": [
    {
     "name": "stdout",
     "output_type": "stream",
     "text": [
      "Scores:\n",
      "\n",
      "[0.6976089477539062, 0.700894832611084, 0.7233095169067383, 0.037892427295446396, 0.05749328061938286, 0.08756383508443832]\n",
      "[{'document': 'điểm chuẩn ngành marketing chất lượng cao  theo phương thức thi đánh giá năng lực năm 2024 tại cơ sở miền nam là bao nhiêu', 'relevance_score': 0.7233095169067383, 'index': 2}, {'document': 'điểm chuẩn ngành marketing theo phương thức thi đánh giá năng lực năm 2024 tại cơ sở miền bắc là bao nhiêu', 'relevance_score': 0.700894832611084, 'index': 1}, {'document': 'điểm chuẩn ngành marketing theo phương thức thi đánh giá năng lực năm 2024 tại cơ sở miền nam là bao nhiêu', 'relevance_score': 0.6976089477539062, 'index': 0}]\n",
      "điểm chuẩn ngành marketing chất lượng cao  theo phương thức thi đánh giá năng lực năm 2024 tại cơ sở miền nam là bao nhiêu\n"
     ]
    }
   ],
   "source": [
    "    # Example query and documents\n",
    "query =  \"điểm chuẩn ngành marketing năm 2024 theo phương thức thi đánh giá năng lực\"\n",
    "\n",
    "documents = [\n",
    "    \"điểm chuẩn ngành marketing theo phương thức thi đánh giá năng lực năm 2024 tại cơ sở miền nam là bao nhiêu\",\n",
    "    \"điểm chuẩn ngành marketing theo phương thức thi đánh giá năng lực năm 2024 tại cơ sở miền bắc là bao nhiêu\",\n",
    "    \"điểm chuẩn ngành marketing chất lượng cao  theo phương thức thi đánh giá năng lực năm 2024 tại cơ sở miền nam là bao nhiêu\",\n",
    "    \"Thời tiết hôm nay rất đẹp\",\n",
    "    \"Trời mưa to quá\",\n",
    "    \"Hôm nay trời đẹp quá\",\n",
    "    ]\n",
    "    # construct sentence pairs\n",
    "sentence_pairs = [[query, doc] for doc in documents]\n",
    "\n",
    "scores = model.compute_score(sentence_pairs, max_length=1024)\n",
    "print(\"Scores:\\n\")\n",
    "print(scores)\n",
    "result = model.rerank(\n",
    "              query,\n",
    "              documents,\n",
    "              max_query_length=512,\n",
    "              max_length=1024,\n",
    "            top_n=3\n",
    ")\n",
    "print(result)\n",
    "\n",
    "print(result[0]['document'])\n",
    "    \n"
   ]
  },
  {
   "cell_type": "code",
   "execution_count": 68,
   "metadata": {},
   "outputs": [
    {
     "name": "stdout",
     "output_type": "stream",
     "text": [
      "61\n",
      "195\n",
      "151\n",
      "181\n",
      "237\n"
     ]
    },
    {
     "name": "stderr",
     "output_type": "stream",
     "text": [
      "c:\\Users\\Admin\\AppData\\Local\\Programs\\Python\\Python310\\lib\\site-packages\\huggingface_hub\\file_download.py:1132: FutureWarning: `resume_download` is deprecated and will be removed in version 1.0.0. Downloads always resume when possible. If you want to force a new download, use `force_download=True`.\n",
      "  warnings.warn(\n"
     ]
    },
    {
     "name": "stdout",
     "output_type": "stream",
     "text": [
      "Query: chỉ tiêu ngành công nghệ thông tin năm 2024\n",
      "ID: 0, Score: 0.8984, Text: chỉ tiêu của ngành công nghệ thông tin năm 2024 là bao nhiêu\n",
      "ID: 1, Score: 0.8984, Text: chỉ tiêu của ngành công nghệ thông tin năm 2024 là bao nhiêu\n",
      "ID: 2, Score: 0.8633, Text: chỉ tiêu của ngành công nghệ thông tin chất lượng cao năm 2024 là bao nhiêu\n",
      "ID: 3, Score: 0.7578, Text: chỉ tiêu của ngành công nghệ thông tin việt nhật năm 2024 là bao nhiêu\n",
      "ID: 4, Score: 0.3066, Text: chỉ tiêu của ngành kế toán năm 2024 là bao nhiêu\n",
      "0\n",
      "61    Bạn muốn hỏi chỉ tiêu dựa trên phương thức xét...\n",
      "Name: answer, dtype: object\n",
      "0.8921944697697958\n",
      "chỉ_tiêu ngành công_nghệ_thông_tin năm 2024\n",
      "chỉ_tiêu của ngành công_nghệ_thông_tin năm 2024\n",
      "Chỉ tiêu của Ngành Công nghệ thông tin năm 2024 là bao nhiêu?\n",
      "Bạn muốn hỏi chỉ tiêu dựa trên phương thức xét tuyển nào, cơ sở miền bắc hay nam? Ví dụ về phương thức xét tuyển như xét tuyển kết hợp, xét tuyển tài năng, thi thpt, đánh giá năng lực, đánh giá tư duy.\n"
     ]
    }
   ],
   "source": [
    "from sentence_transformers import CrossEncoder\n",
    "\n",
    "questions_vector = df['question_vector']\n",
    "processed_questions = df['processed_question']  \n",
    "questions = df['question']\n",
    "def get_response(user_query):\n",
    "    processed_query = processing_text_for_query(user_query)\n",
    "    query_vector = encode_question(processed_query)\n",
    "    # Tính toán độ tương đồng cosine giữa câu truy vấn của người dùng và các câu hỏi trong database\n",
    "    cosine_similarities = [cosine_similarity(\n",
    "        query_vector, qv).flatten() for qv in questions_vector]\n",
    "    jaccard_similarities = [jaccard_similarity(\n",
    "        processed_query, q) for q in  df['processed_question']]\n",
    "\n",
    "    # Kết hợp kết quả từ hai độ tương đồng\n",
    "    alpha = 0.6\n",
    "    beta = 0.4\n",
    "    # Chuyển đổi jaccard_similarities thành mảng một chiều\n",
    "    jaccard_array = np.array(jaccard_similarities).reshape(len(df['processed_question']),1)\n",
    "\n",
    "    documents = []\n",
    "    pos = []\n",
    "    # Kết hợp điểm số từ hai độ tương đồng\n",
    "    combined_scores = alpha * np.array(cosine_similarities) + beta * jaccard_array\n",
    "    sorted_indices = np.argsort(combined_scores,axis=0)\n",
    "    n = 5\n",
    "    largest_indices = sorted_indices[::-1][:n]\n",
    "    for i in largest_indices:\n",
    "        documents.append(processing_text_for_db_rerank(questions[int(i)]))\n",
    "        pos.append([int(i)])\n",
    "        print(int(i))\n",
    "    query_rerank = processing_text_for_db_rerank(user_query)\n",
    "    model = CrossEncoder(\n",
    "        \"jinaai/jina-reranker-v2-base-multilingual\",\n",
    "        automodel_args={\"torch_dtype\": \"auto\"},\n",
    "        trust_remote_code=True,\n",
    "    )\n",
    "    # construct sentence pairs\n",
    "    # sentence_pairs = [[query_rerank, doc] for doc in documents]\n",
    "    # scores = model.predict(sentence_pairs, convert_to_tensor=True).tolist()\n",
    "\n",
    "    rankings = model.rank(query_rerank, documents, return_documents=True, convert_to_tensor=True)\n",
    "    print(f\"Query: {query_rerank}\")\n",
    "    for ranking in rankings:\n",
    "        print(f\"ID: {ranking['corpus_id']}, Score: {ranking['score']:.4f}, Text: {ranking['text']}\")\n",
    "    print(rankings[0]['corpus_id'])\n",
    "    print(answers[pos[rankings[0]['corpus_id']]])\n",
    "    best_match_index = np.argmax(combined_scores)\n",
    "    if np.max(combined_scores) > 0.6:\n",
    "        print(np.max(combined_scores))\n",
    "        print(processed_query)\n",
    "        print(processed_questions[best_match_index])\n",
    "        print(questions[best_match_index])\n",
    "        return answers[best_match_index]\n",
    "    else:\n",
    "        print(np.max(combined_scores))\n",
    "        return \"Tôi không hiểu câu hỏi của bạn. Vui lòng đặt câu hỏi đầy đủ hơn.\"\n",
    "user_input = \"chỉ tiêu ngành công nghệ thông tin năm 2024\"\n",
    "response = get_response(user_input)\n",
    "print(response)\n",
    "\n"
   ]
  },
  {
   "cell_type": "code",
   "execution_count": 48,
   "metadata": {},
   "outputs": [
    {
     "name": "stdout",
     "output_type": "stream",
     "text": [
      "['ngành quản trị kinh doanh được đào tạo ở cơ sở miền nam không', 'ngành quản trị kinh doanh được đào tạo ở cơ sở miền bắc không', 'ngành kế toán được đào tạo ở cơ sở miền nam không', 'ngành marketing được đào tạo ở cơ sở miền nam không', 'ngành công nghệ thông tin được đào tạo ở cơ sở miền nam không', 'ngành thương mại điện tử được đào tạo ở cơ sở miền nam không', 'ngành khoa học máy tính được đào tạo ở cơ sở miền nam không', 'ngành an toàn thông tin được đào tạo ở cơ sở miền nam không', 'ngành kỹ thuật điện tử viễn thông được đào tạo ở cơ sở miền nam không', 'ngành truyền thông đa phương tiện được đào tạo ở cơ sở miền nam không']\n",
      "ngành quản trị kinh doanh có đào tạo ở miền nam không\n"
     ]
    },
    {
     "name": "stderr",
     "output_type": "stream",
     "text": [
      "You're using a XLMRobertaTokenizerFast tokenizer. Please note that with a fast tokenizer, using the `__call__` method is faster than using a method to encode the text followed by a call to the `pad` method to get a padded encoding.\n",
      "c:\\Users\\Admin\\AppData\\Local\\Programs\\Python\\Python310\\lib\\site-packages\\transformers\\tokenization_utils_base.py:2717: UserWarning: `max_length` is ignored when `padding`=`True` and there is no truncation strategy. To pad to max length, use `padding='max_length'`.\n",
      "  warnings.warn(\n"
     ]
    },
    {
     "name": "stdout",
     "output_type": "stream",
     "text": [
      "[{'document': 'ngành quản trị kinh doanh được đào tạo ở cơ sở miền nam không', 'relevance_score': 0.9273632764816284, 'index': 0}, {'document': 'ngành quản trị kinh doanh được đào tạo ở cơ sở miền bắc không', 'relevance_score': 0.7799928784370422, 'index': 1}, {'document': 'ngành marketing được đào tạo ở cơ sở miền nam không', 'relevance_score': 0.6469064354896545, 'index': 3}, {'document': 'ngành thương mại điện tử được đào tạo ở cơ sở miền nam không', 'relevance_score': 0.46587347984313965, 'index': 5}, {'document': 'ngành kế toán được đào tạo ở cơ sở miền nam không', 'relevance_score': 0.38676342368125916, 'index': 2}]\n",
      "0.9273632764816284\n",
      "348\n",
      "Ngành Quản trị kinh doanh được đào tạo ở cơ sở Hà Nội và Tp Hồ Chí Minh\n"
     ]
    }
   ],
   "source": [
    "from sentence_transformers import CrossEncoder\n",
    "import pandas as pd\n",
    "import json\n",
    "import numpy as np\n",
    "from preprocess import processing_text_for_query, processing_text_for_db_rerank, processing_text_for_query_rerank\n",
    "from transformers import AutoModelForSequenceClassification\n",
    "\n",
    "model = AutoModelForSequenceClassification.from_pretrained(\n",
    "    'jinaai/jina-reranker-v2-base-multilingual',\n",
    "    torch_dtype=\"auto\",\n",
    "    trust_remote_code=True,\n",
    ")\n",
    "\n",
    "# corrector = pipeline(\"text2text-generation\",\n",
    "#                          model=\"bmd1905/vietnamese-correction\")\n",
    "# def correction_model(texts):\n",
    "#     return corrector(texts, max_length=512)\n",
    "\n",
    "# Đọc DataFrame từ file CSV\n",
    "dataFrame = pd.read_csv('embeddings.csv')\n",
    "# Chuyển đổi chuỗi JSON trở lại danh sách và sau đó thành mảng NumPy\n",
    "dataFrame['vector_embeddings'] = dataFrame['vector_embeddings'].apply(lambda x: np.array(json.loads(x)))\n",
    "questions_vector = dataFrame['vector_embeddings']\n",
    "processed_questions = dataFrame['processed_question']  \n",
    "questions = dataFrame['question']\n",
    "answers = dataFrame['answer']\n",
    "\n",
    "def get_response(user_query):\n",
    "    processed_query = processing_text_for_query(user_query)\n",
    "    query_vector = encode_question(processed_query)\n",
    "    # Tính toán độ tương đồng cosine giữa câu truy vấn của người dùng và các câu hỏi trong database\n",
    "    cosine_similarities = [cosine_similarity(\n",
    "        query_vector, qv).flatten() for qv in questions_vector]\n",
    "    jaccard_similarities = [jaccard_similarity(\n",
    "        processed_query, q) for q in  dataFrame['processed_question']]\n",
    "\n",
    "    # Kết hợp kết quả từ hai độ tương đồng\n",
    "    alpha = 0.6\n",
    "    beta = 0.4\n",
    "    # Chuyển đổi jaccard_similarities thành mảng một chiều\n",
    "    jaccard_array = np.array(jaccard_similarities).reshape(len(dataFrame['processed_question']),1)\n",
    "\n",
    "    # Kết hợp điểm số từ hai độ tương đồng\n",
    "    combined_scores = alpha * np.array(cosine_similarities) + beta * jaccard_array\n",
    "    sorted_indices = np.argsort(combined_scores,axis=0)\n",
    "    \n",
    "    documents = []\n",
    "    pos = []\n",
    "    n = 10\n",
    "    largest_indices = sorted_indices[::-1][:n]\n",
    "    for i in largest_indices:\n",
    "        documents.append(processing_text_for_db_rerank(questions[int(i)]))\n",
    "        pos.append([int(i)])\n",
    "    print(documents)\n",
    "    query_rerank = processing_text_for_query_rerank(user_query)\n",
    "    print(query_rerank)\n",
    "    result = model.rerank(\n",
    "        query_rerank,\n",
    "        documents,\n",
    "        max_query_length=512,\n",
    "        max_length=1024,\n",
    "        top_n=5\n",
    "    )\n",
    "    print(result)\n",
    "    if result[0]['relevance_score'] > 0.6:\n",
    "        print((result[0]['relevance_score']))\n",
    "        print(pos[result[0]['index']][0])\n",
    "        return answers[pos[result[0]['index']][0]]\n",
    "    else:\n",
    "        return \"Tôi không hiểu câu hỏi của bạn. Vui lòng đặt câu hỏi đầy đủ hơn.\"\n",
    "    \n",
    "global previous_questions\n",
    "previous_questions = []\n",
    "\n",
    "\n",
    "def handle_user_question(question):\n",
    "    try:\n",
    "        response = get_response(question)\n",
    "        if response == \"Tôi không hiểu câu hỏi của bạn. Vui lòng đặt câu hỏi đầy đủ hơn.\":\n",
    "            for i in range(1, min(3, len(previous_questions) + 1)):\n",
    "                last_question = previous_questions[-i]\n",
    "                combined_question = last_question + \" \" + question\n",
    "                response = get_response(combined_question)\n",
    "                if response != \"Tôi không hiểu câu hỏi của bạn. Vui lòng đặt câu hỏi đầy đủ hơn.\":\n",
    "                    return response\n",
    "\n",
    "        # Thêm câu hỏi hiện tại vào danh sách câu hỏi trước đó\n",
    "        previous_questions.append(question)\n",
    "        return response\n",
    "    except (Exception):\n",
    "        return \"Tôi không hiểu câu hỏi của bạn. Vui lòng đặt câu hỏi đầy đủ hơn.\"\n",
    "user_input = \"ngành qtkd có đào tạo ở miền nam không\"\n",
    "response = get_response(user_input)\n",
    "print(response)\n",
    "\n"
   ]
  },
  {
   "cell_type": "code",
   "execution_count": 44,
   "metadata": {},
   "outputs": [
    {
     "name": "stdout",
     "output_type": "stream",
     "text": [
      "Chỉ tiêu ngành CNTT năm nay theo phương thức thi đánh giá năng lực.\n",
      "chỉ_tiêu ngành công_nghệ_thông_tin năm 2024 theo phương_thức thi đánh_giá năng_lực\n"
     ]
    }
   ],
   "source": [
    "from sentence_transformers import CrossEncoder\n",
    "import pandas as pd\n",
    "import json\n",
    "import numpy as np\n",
    "from preprocess import processing_text_for_query, processing_text_for_db_rerank, processing_text_for_query_rerank\n",
    "from transformers import AutoModelForSequenceClassification\n",
    "from transformers import pipeline\n",
    "\n",
    "# Load model directly\n",
    "from transformers import AutoTokenizer, AutoModelForSeq2SeqLM\n",
    "\n",
    "tokenizer = AutoTokenizer.from_pretrained(\"bmd1905/vietnamese-correction\")\n",
    "model = AutoModelForSeq2SeqLM.from_pretrained(\"bmd1905/vietnamese-correction\")\n",
    "\n",
    "\n",
    "\n",
    "\n",
    "# Đọc DataFrame từ file CSV\n",
    "dataFrame = pd.read_csv('embeddings.csv')\n",
    "# Chuyển đổi chuỗi JSON trở lại danh sách và sau đó thành mảng NumPy\n",
    "dataFrame['vector_embeddings'] = dataFrame['vector_embeddings'].apply(lambda x: np.array(json.loads(x)))\n",
    "questions_vector = dataFrame['vector_embeddings']\n",
    "processed_questions = dataFrame['processed_question']  \n",
    "questions = dataFrame['question']\n",
    "answers = dataFrame['answer']\n",
    "\n",
    "def get_response(question):\n",
    "    user_query_correct = correction_model(question)\n",
    "    user_query = user_query_correct[0]['generated_text']\n",
    "    print(user_query_correct[0]['generated_text'])\n",
    "    processed_query = processing_text_for_query(user_query)\n",
    "    \n",
    "    return processed_query\n",
    "\n",
    "user_input = \"chỉ tiêuu ngành cntt namw nay theo phương thức thi đánh giá năng lực\"\n",
    "response = get_response(user_input)\n",
    "print(response)\n",
    "\n",
    "\n"
   ]
  }
 ],
 "metadata": {
  "kernelspec": {
   "display_name": "Python 3",
   "language": "python",
   "name": "python3"
  },
  "language_info": {
   "codemirror_mode": {
    "name": "ipython",
    "version": 3
   },
   "file_extension": ".py",
   "mimetype": "text/x-python",
   "name": "python",
   "nbconvert_exporter": "python",
   "pygments_lexer": "ipython3",
   "version": "3.10.6"
  }
 },
 "nbformat": 4,
 "nbformat_minor": 2
}
