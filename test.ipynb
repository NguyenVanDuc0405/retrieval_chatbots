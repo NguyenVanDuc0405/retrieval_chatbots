{
 "cells": [
  {
   "cell_type": "code",
   "execution_count": 164,
   "metadata": {},
   "outputs": [],
   "source": [
    "from sklearn.feature_extraction.text import TfidfVectorizer\n",
    "from sklearn.metrics.pairwise import cosine_similarity\n",
    "import numpy as np\n",
    "import pandas as pd\n",
    "import re\n"
   ]
  },
  {
   "cell_type": "code",
   "execution_count": 165,
   "metadata": {},
   "outputs": [],
   "source": [
    "# Tính toán Jaccard similarity\n",
    "def jaccard_similarity(query, document):\n",
    "    query_words = set(re.split(r'\\s+', query.lower().strip()))\n",
    "    doc_words = set(re.split(r'\\s+', document.lower().strip()))\n",
    "    intersection = query_words.intersection(doc_words)\n",
    "    union = query_words.union(doc_words)\n",
    "    return len(intersection) / len(union)"
   ]
  },
  {
   "cell_type": "code",
   "execution_count": 166,
   "metadata": {},
   "outputs": [
    {
     "name": "stdout",
     "output_type": "stream",
     "text": [
      "0      Nguyên tắc xét tuyển của học viện năm nay ntn?...\n",
      "1                       Câu hỏi thường gặp về tuyển sinh\n",
      "2      Chương trình đào tạo tại miền Nam có khác với ...\n",
      "3      Trường mình có 2 cơ sở, vậy sẽ phân bố học sin...\n",
      "4      Em đăng ký NV1 là ngành An toàn thông tin, NV2...\n",
      "                             ...                        \n",
      "561    Điểm chuẩn tất cả các ngành theo phương thức x...\n",
      "562         Học viện có bao nhiêu phương thức tuyển sinh\n",
      "563                                  Hello Hi, chào bot!\n",
      "564                                            Hello Hi!\n",
      "565    Diểm chuẩn ngành công nghệ internet vạn vật (i...\n",
      "Name: question, Length: 566, dtype: object\n"
     ]
    }
   ],
   "source": [
    "df = pd.read_csv('questions_answers.csv')\n",
    "\n",
    "# Tách câu hỏi và câu trả lời\n",
    "questions = df['question']\n",
    "answers = df['answer']\n",
    "print(questions)"
   ]
  },
  {
   "cell_type": "code",
   "execution_count": 167,
   "metadata": {},
   "outputs": [
    {
     "name": "stdout",
     "output_type": "stream",
     "text": [
      "Trước khi xử lý: Tôi đang học cntt và muốn tìm hiểu về ngành clc\n",
      "Sau khi xử lý: Tôi đang học công nghệ thông tin và muốn tìm hiểu về ngành chất lượng cao\n"
     ]
    }
   ],
   "source": [
    "# Tạo bộ từ điển các từ viết tắt\n",
    "abbreviation_dict = {\n",
    "    \"cntt\": \"công nghệ thông tin\",\n",
    "    \"attt\": \"an toàn thông tin\",\n",
    "    \"iot\": \"công nghệ internet vạn vật\",\n",
    "    \"fintech\": \"công nghệ tài chính\",\n",
    "    \"cndpt\": \"công nghệ đa phương tiện\",\n",
    "    \"ttdpt\": \"truyền thông đa phương tiện\",\n",
    "    \"qtkd\": \"quản trị kinh doanh\",\n",
    "    \"tmdt\": \"thương mại điện tử\",\n",
    "    \"khmt\": \"khoa học máy tính\",\n",
    "    \"clc\": \"chất lượng cao\",\n",
    "}\n",
    "\n",
    "# Hàm để thay thế các từ viết tắt trong câu bằng từ đầy đủ\n",
    "def replace_abbreviations(text, abbreviation_dict):\n",
    "    words = text.split()\n",
    "    new_words = []\n",
    "    for word in words:\n",
    "        if word in abbreviation_dict:\n",
    "            new_words.append(abbreviation_dict[word])\n",
    "        else:\n",
    "            new_words.append(word)\n",
    "    return ' '.join(new_words)\n",
    "\n",
    "# Ví dụ sử dụng\n",
    "user_input = \"Tôi đang học cntt và muốn tìm hiểu về ngành clc\"\n",
    "processed_input = replace_abbreviations(user_input, abbreviation_dict)\n",
    "\n",
    "print(\"Trước khi xử lý:\", user_input)\n",
    "print(\"Sau khi xử lý:\", processed_input)\n"
   ]
  },
  {
   "cell_type": "code",
   "execution_count": 168,
   "metadata": {},
   "outputs": [
    {
     "data": {
      "text/plain": [
       "'Chi tiết về     Xét tuyển tài năng'"
      ]
     },
     "execution_count": 168,
     "metadata": {},
     "output_type": "execute_result"
    }
   ],
   "source": [
    "import string\n",
    "\n",
    "def remove_punctuation(text):\n",
    "    return text.translate(str.maketrans('', '', string.punctuation))\n",
    "\n",
    "remove_punctuation(\"Chi tiết về     Xét tuyển tài năng?@\")"
   ]
  },
  {
   "cell_type": "code",
   "execution_count": 169,
   "metadata": {},
   "outputs": [
    {
     "data": {
      "text/plain": [
       "'chi tiết về     xét tuyển tài năng'"
      ]
     },
     "execution_count": 169,
     "metadata": {},
     "output_type": "execute_result"
    }
   ],
   "source": [
    "def to_lowercase(text):\n",
    "    return text.lower()\n",
    "to_lowercase('Chi tiết về     Xét tuyển tài năng')\n"
   ]
  },
  {
   "cell_type": "code",
   "execution_count": 170,
   "metadata": {},
   "outputs": [
    {
     "data": {
      "text/plain": [
       "'chi_tiết về xét tuyển tài_năng'"
      ]
     },
     "execution_count": 170,
     "metadata": {},
     "output_type": "execute_result"
    }
   ],
   "source": [
    "from pyvi import ViTokenizer\n",
    "def tokenizerText(text):\n",
    "    return ViTokenizer.tokenize(text)\n",
    "tokenizerText('chi tiết về     xét tuyển tài năng ')"
   ]
  },
  {
   "cell_type": "code",
   "execution_count": 171,
   "metadata": {},
   "outputs": [
    {
     "data": {
      "text/plain": [
       "'Học máy rất thú_vị .'"
      ]
     },
     "execution_count": 171,
     "metadata": {},
     "output_type": "execute_result"
    }
   ],
   "source": [
    "tokenizerText(\"Học máy rất thú vị.\")"
   ]
  },
  {
   "cell_type": "code",
   "execution_count": 172,
   "metadata": {},
   "outputs": [
    {
     "name": "stdout",
     "output_type": "stream",
     "text": [
      "{'bởi_vậy', 'biết_mình', 'bỗng_không', 'biết_chừng_nào', 'ngay_thật', 'cho_tới_khi', 'cho_nên', 'biết_bao_nhiêu', 'bị', 'bỗng_nhiên', 'cho_đến', 'là', 'cho_tin', 'biết', 'bỗng_đâu', 'là_thế_nào', 'cho_rằng', 'ngay_cả', 'bỗng', 'ngay_bây_giờ', 'bỗng_dưng', 'bây_giờ', 'bởi', 'bởi_đâu', 'bởi_vì', 'bây_nhiêu', 'biết_mấy', 'cho_về', 'biết_đâu_đấy', 'ngay_khi', 'cho_nhau', 'cho_rồi', 'cho_đến_khi', 'biết_thế', 'dù_cho', 'bởi_ai', 'làm_bằng', 'cho_ăn', 'ngay_lúc_này', 'là_vì', 'biết_bao', 'dù_rằng', 'ngay_tức_khắc', 'bởi_sao', 'biết_chắc', 'cho_biết', 'là_phải', 'biết_việc', 'bởi_thế', 'bởi_tại', 'biết_đâu', 'bởi_nhưng', 'bấy_giờ', 'dù_dì', 'cho_chắc', 'bấy_nhiêu', 'bởi_thế_cho_nên', 'cho_tới', 'làm_cho', 'bởi_chưng', 'cho', 'là_ít', 'biết_trước', 'bao_lâu', 'bỗng_nhưng', 'là_là', 'dù_sao', 'cho_đang', 'ngay_lập_tức', 'biết_đâu_chừng', 'là_cùng', 'ngay_lúc', 'bấy_lâu', 'bấy_lâu_nay', 'cho_được', 'cho_thấy', 'bỗng_thấy', 'làm', 'bỗng_chốc', 'dù_gì', 'ngay_khi_đến', 'cho_đến_nỗi', 'bao_giờ', 'bấy_nay', 'bao_nhiêu', 'ngay_tức_thì', 'là_nhiều', 'biết_được', 'ngay_từ', 'cho_hay'}\n",
      "90\n"
     ]
    }
   ],
   "source": [
    "# Khởi tạo tập hợp để lưu trữ các từ dừng\n",
    "stopwords = set()\n",
    "\n",
    "# Đọc từng hàng trong file stopwords.txt\n",
    "with open('stopwords.txt', 'r', encoding='utf-8') as fp:\n",
    "    for line in fp:\n",
    "        word = line.strip() # Loại bỏ khoảng trắng đầu và cuối dòng\n",
    "        if word:  # Kiểm tra xem dòng không rỗng\n",
    "            stopwords.add(word)\n",
    "\n",
    "# In danh sách các từ dừng\n",
    "print(stopwords)\n",
    "print(len(stopwords))\n"
   ]
  },
  {
   "cell_type": "code",
   "execution_count": 173,
   "metadata": {},
   "outputs": [
    {
     "name": "stdout",
     "output_type": "stream",
     "text": [
      "Điểm_chuẩn ngành cntt theo phương_thức thi thpt 2023 là bao_nhiêu ?\n",
      "Điểm_chuẩn ngành cntt theo phương_thức thi thpt 2023 ?\n"
     ]
    }
   ],
   "source": [
    "def remove_stopwords(line):\n",
    "    words = []\n",
    "    for word in line.split():\n",
    "        if word not in stopwords:\n",
    "            words.append(word)\n",
    "    return ' '.join(words)\n",
    "text = 'Điểm chuẩn ngành cntt theo phương thức thi thpt 2023 là bao nhiêu?'\n",
    "print(tokenizerText(text))\n",
    "print(remove_stopwords(tokenizerText(text)))"
   ]
  },
  {
   "cell_type": "code",
   "execution_count": 174,
   "metadata": {},
   "outputs": [],
   "source": [
    "def processing_text_for_db(text):\n",
    "    text = remove_punctuation(text)\n",
    "    text = to_lowercase(text)\n",
    "    text = tokenizerText(text)\n",
    "    text = remove_stopwords(text)\n",
    "    return text"
   ]
  },
  {
   "cell_type": "code",
   "execution_count": 175,
   "metadata": {},
   "outputs": [],
   "source": [
    "def processing_text_for_query(text):\n",
    "    text = remove_punctuation(text)\n",
    "    text = to_lowercase(text)\n",
    "    text = replace_abbreviations(text, abbreviation_dict)\n",
    "    text = tokenizerText(text)\n",
    "    text = remove_stopwords(text)\n",
    "    return text"
   ]
  },
  {
   "cell_type": "markdown",
   "metadata": {},
   "source": [
    "Demo preprocessing question"
   ]
  },
  {
   "cell_type": "code",
   "execution_count": 176,
   "metadata": {},
   "outputs": [
    {
     "name": "stdout",
     "output_type": "stream",
     "text": [
      "điểm_chuẩn ngành công_nghệ thông_tin chất_lượng cao năm 2023 theo phương_thức thi thpt tại cơ_sở miền bắc\n"
     ]
    }
   ],
   "source": [
    "q = \"Điểm chuẩn ngành cntt clc năm 2023 theo phương thức thi thpt tại cơ sở miền bắc   là bao   nhiêu ?!$\"\n",
    "\n",
    "print(processing_text_for_query(q))\n",
    "\n"
   ]
  },
  {
   "cell_type": "code",
   "execution_count": 177,
   "metadata": {},
   "outputs": [
    {
     "name": "stdout",
     "output_type": "stream",
     "text": [
      "                                            question  \\\n",
      "0  Nguyên tắc xét tuyển của học viện năm nay ntn?...   \n",
      "1                   Câu hỏi thường gặp về tuyển sinh   \n",
      "2  Chương trình đào tạo tại miền Nam có khác với ...   \n",
      "3  Trường mình có 2 cơ sở, vậy sẽ phân bố học sin...   \n",
      "4  Em đăng ký NV1 là ngành An toàn thông tin, NV2...   \n",
      "\n",
      "                                              answer  \\\n",
      "0  I. Xét tuyển dựa vào kết quả thi THPT 2024:\\n-...   \n",
      "1                            Bạn đang gặp vấn đề gì?   \n",
      "2  Chương trình đào tạo của Học viện được áp dụng...   \n",
      "3  Chỉ tiêu đào tạo của từng cơ sở đã được Học vi...   \n",
      "4  Không được em nhé! Theo nguyên tắc xét tuyển t...   \n",
      "\n",
      "                                  processed_question  \n",
      "0  nguyên_tắc xét tuyển của học_viện năm nay ntn ...  \n",
      "1                   câu hỏi thường gặp về tuyển_sinh  \n",
      "2  chương_trình đào_tạo tại miền nam có khác với ...  \n",
      "3  trường mình có 2 cơ_sở vậy sẽ phân_bố học_sinh...  \n",
      "4  em đăng_ký nv1 ngành an_toàn thông_tin nv2 ngà...  \n"
     ]
    }
   ],
   "source": [
    "processed_questions = []\n",
    "for question in questions:  # Sử dụng tqdm để theo dõi tiến trình nếu cần\n",
    "    # Áp dụng các hàm tiền xử lý\n",
    "    processed_text = processing_text_for_db(question)\n",
    "   \n",
    "    # Lưu kết quả vào list processed_questions\n",
    "    processed_questions.append(processed_text)\n",
    "\n",
    "# Thêm cột mới vào DataFrame hoặc ghi đè lên cột 'question' hiện tại\n",
    "df['processed_question'] = processed_questions\n",
    "\n",
    "# In ra vài dòng đầu của DataFrame sau khi đã tiền xử lý\n",
    "print(df.head())"
   ]
  },
  {
   "cell_type": "code",
   "execution_count": 178,
   "metadata": {},
   "outputs": [],
   "source": [
    "# import torch\n",
    "# from transformers import AutoModel, AutoTokenizer\n",
    "\n",
    "# phobert = AutoModel.from_pretrained(\"vinai/phobert-base-v2\")\n",
    "# tokenizer = AutoTokenizer.from_pretrained(\"vinai/phobert-base-v2\")\n",
    "\n",
    "# # Function to encode each question into vector representation\n",
    "# def encode_question(question):\n",
    "#     # Tokenize the question\n",
    "#     tokens = tokenizer.tokenize(question)\n",
    "#     # Encode tokens to input_ids\n",
    "#     input_ids = tokenizer.convert_tokens_to_ids(tokens)\n",
    "#     # Convert to PyTorch tensor\n",
    "#     input_ids = torch.tensor([input_ids])\n",
    "#     # Get features from PhoBERT\n",
    "#     with torch.no_grad():\n",
    "#         features = phobert(input_ids)\n",
    "#     # Return the representation vector of the sentence\n",
    "#     return features[0].squeeze().tolist()\n",
    "\n",
    "# df['question_vector'] = questions.apply(encode_question)\n",
    "# print(df.head())\n",
    "\n"
   ]
  },
  {
   "cell_type": "code",
   "execution_count": 179,
   "metadata": {},
   "outputs": [
    {
     "name": "stderr",
     "output_type": "stream",
     "text": [
      "Some weights of RobertaModel were not initialized from the model checkpoint at vinai/phobert-base-v2 and are newly initialized: ['roberta.pooler.dense.bias', 'roberta.pooler.dense.weight']\n",
      "You should probably TRAIN this model on a down-stream task to be able to use it for predictions and inference.\n",
      "c:\\Users\\Admin\\AppData\\Local\\Programs\\Python\\Python310\\lib\\site-packages\\huggingface_hub\\file_download.py:1132: FutureWarning: `resume_download` is deprecated and will be removed in version 1.0.0. Downloads always resume when possible. If you want to force a new download, use `force_download=True`.\n",
      "  warnings.warn(\n",
      "Asking to truncate to max_length but no maximum length is provided and the model has no predefined maximum length. Default to no truncation.\n"
     ]
    },
    {
     "name": "stdout",
     "output_type": "stream",
     "text": [
      "                                            question  \\\n",
      "0  Nguyên tắc xét tuyển của học viện năm nay ntn?...   \n",
      "1                   Câu hỏi thường gặp về tuyển sinh   \n",
      "2  Chương trình đào tạo tại miền Nam có khác với ...   \n",
      "3  Trường mình có 2 cơ sở, vậy sẽ phân bố học sin...   \n",
      "4  Em đăng ký NV1 là ngành An toàn thông tin, NV2...   \n",
      "\n",
      "                                              answer  \\\n",
      "0  I. Xét tuyển dựa vào kết quả thi THPT 2024:\\n-...   \n",
      "1                            Bạn đang gặp vấn đề gì?   \n",
      "2  Chương trình đào tạo của Học viện được áp dụng...   \n",
      "3  Chỉ tiêu đào tạo của từng cơ sở đã được Học vi...   \n",
      "4  Không được em nhé! Theo nguyên tắc xét tuyển t...   \n",
      "\n",
      "                                  processed_question  \\\n",
      "0  nguyên_tắc xét tuyển của học_viện năm nay ntn ...   \n",
      "1                   câu hỏi thường gặp về tuyển_sinh   \n",
      "2  chương_trình đào_tạo tại miền nam có khác với ...   \n",
      "3  trường mình có 2 cơ_sở vậy sẽ phân_bố học_sinh...   \n",
      "4  em đăng_ký nv1 ngành an_toàn thông_tin nv2 ngà...   \n",
      "\n",
      "                                     question_vector  \n",
      "0  [[0.029310094, 0.19725873, -0.12705235, 0.0143...  \n",
      "1  [[0.13571064, 0.35595044, -0.03702971, -0.2056...  \n",
      "2  [[0.10606582, 0.2407168, 0.032471903, -0.02149...  \n",
      "3  [[0.0779228, 0.25798362, 0.007669014, -0.04432...  \n",
      "4  [[0.044838406, 0.19240484, -0.023653725, -0.15...  \n"
     ]
    }
   ],
   "source": [
    "import torch\n",
    "from transformers import AutoModel, AutoTokenizer\n",
    "\n",
    "phobert = AutoModel.from_pretrained(\"vinai/phobert-base-v2\")\n",
    "tokenizer = AutoTokenizer.from_pretrained(\"vinai/phobert-base-v2\")\n",
    "\n",
    "# Function to encode each question into vector representation\n",
    "def encode_question(question):\n",
    "   # Tokenize và chuyển đổi câu văn bản thành tensor\n",
    "    tokens = tokenizer(question, return_tensors='pt', padding=True, truncation=True)\n",
    "\n",
    "    # Sử dụng model để mã hóa câu văn bản thành vector\n",
    "    with torch.no_grad():\n",
    "        output = phobert(**tokens)\n",
    "\n",
    "    # Lấy vector biểu diễn từ outputs của model\n",
    "    return output.last_hidden_state.mean(dim=1).numpy()  # Trung bình các vector token\n",
    "\n",
    "df['question_vector'] = questions.apply(encode_question)\n",
    "print(df.head())\n",
    "\n"
   ]
  },
  {
   "cell_type": "code",
   "execution_count": 180,
   "metadata": {},
   "outputs": [
    {
     "name": "stdout",
     "output_type": "stream",
     "text": [
      "Điểm chuẩn ngành thương mại điện tử theo phương thức thi thpt năm 2023 tại cơ sở miền bắc là bao nhiêu?\n",
      "điểm_chuẩn ngành thương_mại điện_tử theo phương_thức thi thpt năm 2023 tại cơ_sở miền bắc\n",
      "điểm_chuẩn ngành kỹ_thuật điều_khiển và tự_động hóa theo phương_thức thi thpt năm 2023 tại cơ_sở miền bắc\n",
      "(1, 768)\n",
      "[[ 1.27193093e-01  8.82265121e-02 -1.49289161e-01 -6.89974502e-02\n",
      "  -2.02951819e-01  4.06952798e-02  7.15420544e-02  2.86344998e-02\n",
      "  -2.01561034e-01  4.24265079e-02 -3.33244130e-02  1.63626552e-01\n",
      "  -1.26928166e-02 -1.47357374e-01 -8.71807858e-02 -4.88565229e-02\n",
      "   1.37584088e-02  1.19853482e-01  1.21699087e-01 -4.84706461e-02\n",
      "  -9.00105387e-02  9.01822895e-02 -2.42922478e-03  3.51708025e-01\n",
      "  -1.98031783e-01  6.57050696e-04  7.77249262e-02  2.79813766e-01\n",
      "  -3.79326418e-02 -1.15963332e-01 -5.64399399e-02 -2.04055399e-01\n",
      "  -2.31248736e-02  1.48644000e-01  4.07536954e-01  4.32585955e-01\n",
      "  -6.52193576e-02  1.77917350e-02  7.34209418e-02  2.52819419e-01\n",
      "   4.85257804e-02  2.00461358e-01  4.14749794e-02 -8.60652551e-02\n",
      "   4.71485369e-02  8.96593183e-02  2.37514228e-02  2.63368059e-02\n",
      "   6.34560734e-02  1.11816548e-01  2.04144165e-01  1.84815466e-01\n",
      "  -8.05442780e-02  3.97274286e-01  1.54719234e-01  9.76939723e-02\n",
      "   7.55574256e-02 -2.51174361e-01  1.06187820e-01  2.72018433e-01\n",
      "   1.37174785e-01 -5.29999673e-01 -3.64431478e-02  1.17500305e-01\n",
      "   6.28355592e-02 -1.28958434e-01 -2.66221594e-02  8.67097825e-02\n",
      "  -9.20430645e-02  6.18963428e-02  1.02808468e-01  3.65646593e-02\n",
      "   1.37042016e-01 -3.03632230e-01 -1.21178977e-01  9.51067507e-02\n",
      "  -2.05276951e-01  1.98330954e-01  8.77204239e-02 -5.86173357e-03\n",
      "   1.57577634e-01  7.73426816e-02  2.76565909e-01 -1.49216363e-02\n",
      "  -1.07890062e-01  1.92376480e-01 -1.50619432e-01  8.81719217e-02\n",
      "  -1.39736068e-02  2.12279558e-02  1.70227870e-01  1.66649166e-02\n",
      "   7.29245618e-02  2.27604851e-01  1.47582397e-01 -5.78828193e-02\n",
      "   7.73275569e-02 -2.79129036e-02  1.38164759e-01  1.79661941e-02\n",
      "  -2.11723864e-01  2.03767955e-01  1.84779465e-01 -8.46441090e-02\n",
      "   1.91303007e-02 -2.94635743e-01  1.39329135e-01  6.26394479e-03\n",
      "  -7.75614232e-02  1.43927976e-01  2.72987396e-01  2.35847548e-01\n",
      "   4.19560187e-02 -1.34057686e-01 -8.84018540e-02  1.83344617e-01\n",
      "  -1.42194629e-02 -2.75473688e-02  2.27713928e-01  8.71153027e-02\n",
      "  -3.83655466e-02  1.71175823e-01 -2.06286460e-01  5.47597893e-02\n",
      "   1.14535011e-01 -5.23086935e-02  8.23033825e-02  8.61616656e-02\n",
      "  -9.25804004e-02  1.18139796e-01 -1.42559126e-01 -3.19088995e-01\n",
      "  -3.01753163e-01 -1.16299260e-02  1.68274082e-02  2.63351381e-01\n",
      "  -3.27401459e-02  2.57665794e-02 -1.28809988e-01 -1.62605077e-01\n",
      "  -1.80813253e-01  3.24885339e-01 -9.61427987e-02  3.27380031e-01\n",
      "   1.08762197e-01 -7.56726712e-02  1.87727749e-01 -3.17411795e-02\n",
      "  -6.62223399e-02 -3.62088941e-02  5.28123714e-02  7.93404430e-02\n",
      "   3.83986086e-02  1.61345840e-01 -1.69431791e-01 -5.86639941e-02\n",
      "   1.58974946e-01 -3.16227116e-02 -5.45128807e-02  2.41702780e-01\n",
      "  -3.56742479e-02  1.55043393e-01  1.17848888e-01  2.24410146e-01\n",
      "   1.34172559e-01 -3.49160694e-02  6.97577521e-02  1.72620695e-02\n",
      "   9.08130780e-02  1.53289407e-01 -1.48268808e-02 -1.23342477e-01\n",
      "   1.88665926e-01  5.39412238e-02  2.26066485e-01  3.64958718e-02\n",
      "   6.78203404e-02 -7.72776008e-02  1.16117194e-01 -1.15632534e-01\n",
      "   7.55090714e-02  1.94019124e-01  1.24692157e-01 -2.49697808e-02\n",
      "  -1.14725061e-01  7.59299919e-02 -2.24935561e-01 -5.05006500e-02\n",
      "  -6.71268329e-02  8.00756514e-02 -9.68914665e-03  3.11881583e-03\n",
      "  -1.13528393e-01 -1.14497751e-01  1.43561050e-01  2.13558637e-02\n",
      "   1.14588171e-01  1.29593119e-01 -1.08839445e-01  2.52578277e-02\n",
      "   1.62634477e-01 -7.11571500e-02  2.80529916e-01 -5.48965186e-02\n",
      "   8.23533610e-02 -1.76356673e-01 -5.88822700e-02  1.55557945e-01\n",
      "   6.86613172e-02  1.48347914e-01  7.54117444e-02  7.93925747e-02\n",
      "   1.25316635e-01  2.99858339e-02  3.12896725e-03  1.75998807e-01\n",
      "   4.68810126e-02 -1.83570325e-01 -3.76531854e-02 -1.06815070e-01\n",
      "  -1.61799014e-01  2.41621900e-02  1.58054635e-01  3.16500589e-02\n",
      "   1.12366535e-01  2.19779566e-01  2.61850327e-01 -4.63310778e-02\n",
      "  -4.21595313e-02 -2.97226589e-02  6.96068183e-02  5.29419035e-02\n",
      "  -3.13433888e-03  1.20804310e-02 -1.09476671e-01  6.29398413e-03\n",
      "   6.30172417e-02 -5.29787876e-02 -1.38712019e-01  3.50294262e-02\n",
      "   2.61510955e-03 -8.80385097e-03  7.88241997e-02 -4.72504608e-02\n",
      "   3.55432071e-02  2.96063274e-01  1.09955914e-01 -3.16518880e-02\n",
      "  -4.44942832e-01  1.47725925e-01  1.24233402e-01  1.08741611e-01\n",
      "  -2.25603521e-01  7.31272027e-02 -9.16146189e-02  1.27034083e-01\n",
      "   1.03644177e-01  1.74025282e-01 -2.36808181e-01 -1.39883727e-01\n",
      "  -5.76033033e-02  2.10762788e-02  3.82540151e-02  1.53671399e-01\n",
      "  -8.82113874e-02 -7.95154572e-02  4.43399072e-01 -3.48590434e-01\n",
      "  -8.31706896e-02  6.85231909e-02  2.83052802e-01  1.03525385e-01\n",
      "   4.03251462e-02  9.10399482e-02  1.15481824e-01  8.04710463e-02\n",
      "   3.01391240e-02  5.64338028e-01  2.46794838e-02  3.78395990e-02\n",
      "   2.35456392e-01 -1.04755210e-02 -9.29869786e-02 -1.28347859e-01\n",
      "   2.94941276e-01 -1.20970644e-01  8.36789683e-02  1.26517788e-01\n",
      "  -2.39055276e-01 -6.57828152e-02  2.60619330e-03 -8.60281195e-03\n",
      "   9.64003503e-02 -3.82891223e-02  6.05946295e-02  2.44366616e-01\n",
      "   6.72495971e-03 -7.72025660e-02  1.04927734e-01  3.27467360e-02\n",
      "  -3.47204246e-02  5.14240600e-02  3.78653742e-02 -1.00315809e-01\n",
      "  -3.75179537e-02  2.55151123e-01 -2.69752070e-02  5.56105077e-02\n",
      "   1.70161411e-01 -4.17059436e-02  6.98262220e-03  1.62022978e-01\n",
      "   7.27188289e-02  8.65290761e-02 -3.16298306e-01  5.97816892e-02\n",
      "  -1.19674634e-02 -2.31960937e-01 -1.37227535e-01 -1.04168378e-01\n",
      "  -7.68481791e-02 -1.03609279e-01 -1.16519541e-01 -1.65899768e-01\n",
      "   9.06890333e-02  4.77517396e-02  2.08067074e-01  8.87201652e-02\n",
      "  -1.28742963e-01 -5.37034944e-02  1.27012298e-01 -2.18317315e-01\n",
      "   4.98931147e-02 -7.93915913e-02  1.19525969e-01 -1.01126842e-01\n",
      "  -1.94456175e-01 -1.22576598e-02 -5.89098513e-01 -7.45851025e-02\n",
      "   1.33919850e-01  1.63323209e-01  2.69358326e-02  2.70483673e-01\n",
      "   3.53072137e-01  6.32998198e-02  3.24554294e-02 -6.15938753e-02\n",
      "  -1.91453069e-01  1.10245675e-01  1.15483902e-01  1.31629527e-01\n",
      "   3.85275744e-02 -8.77994373e-02  2.17984766e-02 -1.13509469e-01\n",
      "  -7.08443299e-02 -7.03961030e-02 -4.44413386e-02 -5.91627136e-02\n",
      "   2.17016205e-01  1.98190250e-02 -7.92293474e-02  2.74585038e-01\n",
      "  -9.50158760e-02 -1.86784714e-02  6.06289469e-02  2.65701979e-01\n",
      "  -3.81530784e-02  5.21703027e-02 -1.82732232e-02  8.73020366e-02\n",
      "  -5.06243184e-02 -8.30420628e-02 -2.31561869e-01 -1.42616823e-01\n",
      "   1.03055544e-01 -1.20304571e-02  2.19627731e-02  1.03018142e-01\n",
      "  -4.98225279e-02  4.79681939e-02  2.45554537e-01  1.73760623e-01\n",
      "   5.92809245e-02 -9.95892808e-02 -1.37285605e-01 -1.57645673e-01\n",
      "  -3.57269123e-02  4.89940122e-02  2.57832482e-02  3.63149643e-02\n",
      "   1.11483082e-01  6.70687556e-02 -3.41168940e-02 -1.88066006e-01\n",
      "   6.64777239e-04 -8.93830806e-02 -2.70678461e-01  1.07679620e-01\n",
      "   2.28788301e-01  4.54390608e-02  2.49728069e-01  9.72202271e-02\n",
      "   3.15926112e-02 -1.91053286e-01  2.41374582e-01  1.38142422e-01\n",
      "  -1.56615183e-01  5.20717762e-02 -1.90305769e-01  2.86555737e-01\n",
      "  -1.02152631e-01  1.01049528e-01  2.28888597e-02 -3.06137472e-01\n",
      "  -2.59293675e-01 -4.86613475e-02  2.28237227e-01  7.72707984e-02\n",
      "  -1.16109759e-01 -4.06539142e-01  2.45213844e-02 -2.17805654e-01\n",
      "   4.19565797e-01  1.63375080e-01 -2.13841200e-02  8.94254554e-05\n",
      "   1.19400464e-01 -1.38429450e-02  1.58146307e-01 -2.42679670e-01\n",
      "   2.78362244e-01 -2.05016643e-01  1.75432563e-01  1.69716775e-01\n",
      "  -2.52039194e-01 -4.62661311e-02  3.99504323e-03 -7.67630115e-02\n",
      "   2.26775080e-01  4.05491024e-01 -5.66765517e-02 -4.18516435e-03\n",
      "   6.12736493e-02 -7.69898295e-02  1.92162126e-01  3.73661548e-01\n",
      "  -1.38891041e-01 -5.27625531e-02 -3.61350132e-03  6.85580000e-02\n",
      "  -2.23029125e-02 -6.14016466e-02 -1.24177532e-02  1.30142003e-01\n",
      "  -2.03522936e-01  2.07644835e-01  1.28841579e-01 -5.06858863e-02\n",
      "   1.36165395e-02  2.56270438e-01  5.77202290e-02  4.03365586e-03\n",
      "   2.41133764e-01  1.85635701e-01  9.03349966e-02  1.10596150e-01\n",
      "  -1.54046267e-01  7.41021559e-02  4.40246277e-02  7.56377876e-02\n",
      "   1.22386806e-01 -1.05717696e-01  1.61656234e-02  2.35292152e-01\n",
      "   3.32989663e-01 -1.89365130e-02 -6.39341846e-02  8.19397867e-02\n",
      "   5.60410917e-02 -1.63497344e-01  1.32379234e-01 -3.09039094e-02\n",
      "   2.65886877e-02  1.90705955e-01  1.09655201e-01 -7.43029565e-02\n",
      "  -9.90532525e-03  6.26191199e-02  1.89014953e-02  1.38407713e-02\n",
      "   1.30056575e-01 -3.01298127e-02 -9.58982334e-02  4.36703086e-01\n",
      "  -1.21428691e-01  1.83782130e-01 -1.30109459e-01  4.56221960e-02\n",
      "   3.71435136e-02 -6.79160049e-03  2.44056294e-03 -3.28832828e-02\n",
      "   2.06359565e-01  2.47792155e-01  1.99803915e-02 -5.78503795e-02\n",
      "  -8.00136030e-02 -4.30873185e-02 -1.21576242e-01  5.59385680e-02\n",
      "  -2.15722458e-03  6.95654526e-02 -2.01839194e-01 -1.27039487e-02\n",
      "  -1.14784054e-02  7.83625618e-02  6.07961649e-03 -8.74868408e-03\n",
      "   1.67944983e-01  6.21520579e-02  1.62493773e-02 -1.08898640e-01\n",
      "  -1.23430729e-01 -9.41421986e-02 -2.03035578e-01 -1.61698207e-01\n",
      "   2.86207318e-01  1.01222750e-02 -8.43815214e-04  2.53428668e-01\n",
      "   1.55027425e-02  1.58833250e-01  1.32579103e-01  3.39257754e-02\n",
      "   2.25042373e-01 -2.27230564e-02 -6.90487921e-02  7.83884600e-02\n",
      "  -1.14393542e-02  6.55649751e-02  5.73790707e-02 -8.97420570e-02\n",
      "  -7.49392658e-02 -6.74314192e-03  3.10647219e-01  1.04244322e-01\n",
      "  -2.69399974e-02  6.45702705e-02 -2.54195005e-01 -9.97949019e-02\n",
      "   3.35249752e-02  1.29087895e-01 -2.02768948e-02  4.70298938e-02\n",
      "   1.69282928e-01 -3.12959217e-02  2.68655658e-01 -2.22513512e-01\n",
      "  -1.27154559e-01  4.82646264e-02  1.23399235e-02  1.03987873e-01\n",
      "  -5.59564307e-02 -8.72594491e-02 -2.47293450e-02  1.49084374e-01\n",
      "   5.13646156e-02  2.33381659e-01  2.30509159e-03  2.69978821e-01\n",
      "   1.60821855e-01  6.95379591e-03 -2.71164291e-02  8.12675059e-02\n",
      "  -1.07461689e-02  1.10363990e-01  2.23219991e-01 -3.29225771e-02\n",
      "  -1.49544999e-01 -1.39943287e-01 -2.06108410e-02 -1.09780021e-01\n",
      "   1.93675414e-01  4.12660539e-02  4.20655869e-03  1.07702345e-01\n",
      "  -1.37902468e-01  5.31069599e-02  1.75105453e+00  2.41381615e-01\n",
      "  -5.17822728e-02 -1.29655182e-01  3.70960981e-01  4.80043888e-03\n",
      "   2.51470894e-01  4.76349652e-01  2.10108474e-01 -1.09272130e-01\n",
      "   1.00014597e-01  2.15641901e-01  1.92881958e-03 -2.56701093e-02\n",
      "   1.81707352e-01  1.36449829e-01 -8.58099908e-02  1.17982440e-01\n",
      "  -3.43621448e-02  2.26503924e-01 -7.15710700e-01  8.53654817e-02\n",
      "   9.72824395e-02 -1.13169879e-01  1.23847080e-02 -8.97942930e-02\n",
      "   5.95288277e-02 -9.78295505e-02 -8.49743094e-03  4.94316220e-03\n",
      "  -1.24833278e-01  2.41350517e-01 -1.18755333e-01  7.03150928e-02\n",
      "   4.22720052e-02  9.22732949e-02  4.50408533e-02  3.67526747e-02\n",
      "   6.97665289e-02 -7.70009160e-02  4.92497906e-02  1.16694748e-01\n",
      "  -1.11912817e-01  7.58608356e-02  2.14781031e-01 -2.13019550e-01\n",
      "   1.13635153e-01  8.91948417e-02 -1.56136289e-01  7.54716843e-02\n",
      "  -1.54560000e-01 -6.41119108e-02  4.54693474e-02 -2.50420719e-01\n",
      "   6.22497797e-02  2.08601460e-01  9.60885063e-02  5.90851381e-02\n",
      "   1.67451113e-01 -5.94036169e-02  1.62466764e-02  3.80344182e-01\n",
      "  -7.76697248e-02  2.73619182e-02  3.51114757e-02 -6.13237582e-02\n",
      "  -9.79359522e-02 -1.20838277e-01  2.68907487e-01  8.01348314e-02\n",
      "  -2.09139928e-01  1.32092796e-02  1.95664048e-01  7.53866285e-02\n",
      "  -1.08457962e-03 -2.56581992e-01 -1.29780173e-01  3.31363887e-01\n",
      "   1.98225334e-01  1.54530063e-01 -2.42032468e-01  1.26987904e-01\n",
      "   1.06546925e-02  1.06391363e-01  1.79178715e-01 -1.76382437e-02\n",
      "  -1.62864089e-01 -1.46981090e-01 -7.51380026e-02  1.26103029e-01\n",
      "  -6.36833608e-02 -6.22738861e-02  9.53429192e-02  2.96095908e-01\n",
      "   1.31476074e-01  2.87771150e-02  1.43950313e-01 -2.66701505e-02\n",
      "  -1.30515665e-01  1.55775417e-02 -8.10805038e-02 -5.30738570e-02\n",
      "   4.38093990e-02  1.28749594e-01  4.09561209e-02  1.07364960e-01\n",
      "   7.35490173e-02 -4.62208465e-02 -1.39600739e-01  1.46446183e-01\n",
      "   1.98386878e-01  6.63929060e-02  2.44305417e-01  2.20141243e-02\n",
      "   7.58497370e-03 -1.05410621e-01  9.09286365e-03  1.03271045e-01\n",
      "  -1.41412258e-01  5.17127067e-02  1.78810626e-01 -1.05319150e-01\n",
      "   1.02510467e-01  6.46400675e-02  3.13225001e-01 -3.33660483e-01\n",
      "   2.21384048e-01  5.16897999e-02 -1.67483315e-01  1.24367781e-01\n",
      "  -1.62297860e-01  9.45237204e-02  7.01668635e-02 -1.05615063e-02\n",
      "   1.97373644e-01 -1.24266975e-01  1.36144549e-01  1.61591589e-01\n",
      "   4.30713929e-02  1.67142943e-01  8.00279677e-02  5.58865964e-02\n",
      "   1.37177870e-01  2.34063640e-01 -3.55299190e-02  9.19201002e-02\n",
      "  -5.91352731e-02  2.54443437e-01  3.72556262e-02 -3.07641514e-02\n",
      "  -5.01004279e-01  1.38454407e-01  3.80741626e-01  2.20089108e-02\n",
      "  -1.02195673e-01  1.79211363e-01  2.38954887e-01 -8.95565525e-02\n",
      "  -1.07314318e-01  1.19877137e-01  1.08489264e-02  5.01319230e-01\n",
      "   9.30347443e-02 -8.74145180e-02  1.44930743e-02 -2.27791294e-01\n",
      "  -8.03374220e-03  2.18670070e-01 -1.59685031e-01  6.38974085e-02\n",
      "   1.60508469e-01  1.32839363e-02 -3.18968259e-02 -2.80866269e-02\n",
      "   3.49756107e-02  6.53006658e-02  4.92496304e-02  2.79635102e-01]]\n"
     ]
    }
   ],
   "source": [
    "fifth_element = df['question_vector'].iloc[324]\n",
    "print(df['question'].iloc[324])\n",
    "print(df['processed_question'].iloc[324])\n",
    "print(df['processed_question'].iloc[313])\n",
    "\n",
    "print(fifth_element.shape)\n",
    "print(fifth_element)\n"
   ]
  },
  {
   "cell_type": "code",
   "execution_count": 181,
   "metadata": {},
   "outputs": [
    {
     "name": "stdout",
     "output_type": "stream",
     "text": [
      "điểm_chuẩn ngành an_toàn thông_tin theo phương_thức thi thpt 2023 miền bắc\n",
      "(1, 768)\n",
      "[[ 2.47866198e-01  8.75657946e-02 -1.72575355e-01 -1.28289014e-01\n",
      "  -1.36528999e-01  2.49251686e-02  2.10783035e-02  1.29400179e-01\n",
      "  -1.74124524e-01  8.21061879e-02 -1.68095723e-01  1.89115480e-01\n",
      "   4.06486169e-02 -1.03111692e-01 -5.82254268e-02  4.59612384e-02\n",
      "  -1.04514919e-01  2.47891799e-01  2.09378958e-01 -1.13384359e-01\n",
      "  -2.05431148e-01  1.34707972e-01  8.07819441e-02  4.12992805e-01\n",
      "  -9.81463119e-02 -1.18047111e-01 -4.29528728e-02  2.61191756e-01\n",
      "  -1.53154209e-01 -1.34863913e-01 -1.52581677e-01 -2.25703314e-01\n",
      "  -1.42768115e-01  1.45331517e-01  4.31122392e-01  4.21756595e-01\n",
      "  -6.69411942e-02 -5.49872033e-02  1.53473541e-01  3.05534843e-02\n",
      "  -1.26891593e-02  3.01260233e-01  6.55282801e-03 -1.20831057e-01\n",
      "   2.02900425e-01  1.56172484e-01  1.58965588e-02  8.28259960e-02\n",
      "   4.37981971e-02  2.17373222e-01  2.27199525e-01  2.87639171e-01\n",
      "   4.94743623e-02  3.82300884e-01  1.01569042e-01  1.54131189e-01\n",
      "   9.12631769e-03 -2.56906211e-01  2.13810846e-01  2.98078030e-01\n",
      "   2.61288345e-01 -5.22927940e-01 -1.02374338e-01  9.73144770e-02\n",
      "  -6.15879335e-02 -6.78549856e-02 -4.44773585e-03  1.42562523e-01\n",
      "  -6.07902817e-02  1.18230037e-01  5.27853630e-02  2.12719470e-01\n",
      "   1.81850478e-01 -2.75635868e-01 -1.26304522e-01  2.17443332e-01\n",
      "  -3.97955701e-02  6.36313483e-02  5.03113195e-02 -1.38384610e-01\n",
      "   1.30724549e-01  4.27182503e-02  2.68187344e-01 -2.03851573e-02\n",
      "  -1.73478439e-01  1.48468360e-01 -9.13468972e-02  1.02106519e-01\n",
      "  -9.21138898e-02  2.90383492e-02  7.11073503e-02  6.40174001e-02\n",
      "   1.21336035e-01  2.02071577e-01  2.28538856e-01 -3.70130353e-02\n",
      "   1.43460050e-01 -8.39320049e-02  3.09577316e-01 -5.67047810e-03\n",
      "  -2.16331124e-01  1.47764489e-01  1.89123422e-01 -1.45418137e-01\n",
      "   1.27255365e-01 -1.10410437e-01  2.20713690e-01  9.69328731e-02\n",
      "  -7.28631392e-02  1.78458139e-01  3.64943564e-01  1.98011845e-01\n",
      "   1.88320444e-03 -1.27552778e-01 -5.27252369e-02  1.81664854e-01\n",
      "  -2.56943866e-03  5.29890694e-02  2.19795018e-01  1.86101608e-02\n",
      "  -1.70175433e-01  1.69114351e-01 -2.13300899e-01  5.66818528e-02\n",
      "  -7.12203011e-02 -8.49527940e-02  1.58260718e-01  6.83353692e-02\n",
      "   6.50956249e-03  1.16345525e-01 -1.08353838e-01 -4.51403767e-01\n",
      "  -4.39154245e-02  6.42353892e-02 -3.51842977e-02  3.09403807e-01\n",
      "   8.13323408e-02  6.40781522e-02 -1.33825034e-01 -2.40495458e-01\n",
      "  -1.56710356e-01  5.65294921e-01 -8.76555517e-02  4.02114660e-01\n",
      "   2.27154121e-01 -1.70599580e-01  1.71637073e-01 -3.37603688e-02\n",
      "  -9.63767699e-04 -3.61468606e-02  2.39532981e-02  4.06907275e-02\n",
      "   8.68479982e-02  1.09425835e-01 -7.62812942e-02 -2.54242599e-01\n",
      "   1.98104288e-02  7.22638965e-02 -5.78943305e-02  2.55880445e-01\n",
      "   1.56867709e-02  1.37227222e-01  1.73212573e-01  9.27918777e-02\n",
      "   5.95776644e-03 -2.17822306e-02  1.05039515e-01  4.08314280e-02\n",
      "   1.45651013e-01  1.59819871e-01  9.71625969e-02 -7.00146109e-02\n",
      "   1.97229728e-01  5.32481149e-02  2.75168419e-01 -9.71355848e-03\n",
      "  -2.84978542e-02 -2.12977886e-01 -7.28860265e-03 -2.29389861e-01\n",
      "   1.07423149e-01  1.79270133e-01  1.35769635e-01  1.39919370e-02\n",
      "  -5.51921390e-02  5.93590029e-02 -2.79261857e-01 -1.59362443e-02\n",
      "   4.53041792e-02  4.78249229e-02 -1.82689242e-02  7.73212165e-02\n",
      "  -9.18692201e-02 -9.20385569e-02  1.76642746e-01  1.29294902e-01\n",
      "   8.37009177e-02  1.50539801e-01 -4.47430350e-02  9.29605812e-02\n",
      "   2.05182567e-01 -1.21004954e-01  2.89693594e-01  1.83594339e-02\n",
      "   7.07672238e-02 -3.15427512e-01 -1.77692845e-01 -8.02025571e-02\n",
      "   4.30565886e-02  7.83186480e-02  1.42640606e-01  4.81148474e-02\n",
      "  -6.48332089e-02 -9.77259688e-03 -9.68810692e-02  1.53473899e-01\n",
      "   1.29956126e-01 -2.05904737e-01 -1.92927606e-02 -1.40207186e-01\n",
      "  -7.47268125e-02 -1.06726244e-01  1.60015151e-01  3.04940809e-02\n",
      "  -1.45806586e-02  2.93707520e-01  3.53793681e-01 -3.19719240e-02\n",
      "  -1.09079652e-01 -1.11328803e-01  5.97512797e-02  9.17762443e-02\n",
      "   2.80796681e-02 -1.26825953e-02 -9.67707112e-02 -1.13694273e-01\n",
      "   8.46124347e-03 -1.55797049e-01  2.37989388e-02  4.25462127e-02\n",
      "  -1.35591373e-01  1.08557474e-02  8.30357075e-02 -7.72191286e-02\n",
      "   6.13569058e-02  2.46729970e-01  1.88736275e-01  6.14544116e-02\n",
      "  -4.81779158e-01  9.40668732e-02  8.39457959e-02  2.35043079e-01\n",
      "  -2.16590270e-01  6.03012834e-03 -1.10573426e-03  1.12549877e-02\n",
      "   1.22723682e-02  2.43406907e-01 -2.66206205e-01 -2.00234607e-01\n",
      "   8.66406336e-02  6.33143932e-02  8.85311365e-02  1.42058745e-01\n",
      "  -1.37052000e-01  4.14972529e-02  2.86731094e-01 -3.35215420e-01\n",
      "  -9.10568014e-02  2.07921058e-01  2.94811964e-01  2.08728865e-01\n",
      "  -1.11787990e-01 -2.03387607e-02  2.67372072e-01  7.01555237e-02\n",
      "  -1.10473586e-02  6.31359518e-01 -3.66880335e-02 -2.21565198e-02\n",
      "   1.49896219e-01  5.79704009e-02 -7.23329186e-02 -1.31290570e-01\n",
      "   3.08297366e-01 -1.54615685e-01  2.15538457e-01  7.38963261e-02\n",
      "  -3.08382243e-01  3.92500311e-03 -1.89659558e-02  3.00612319e-02\n",
      "   8.90161172e-02 -2.74555236e-02  1.69023238e-02  3.18514317e-01\n",
      "   1.40977234e-01  2.77486332e-02  1.55580863e-01 -6.06857315e-02\n",
      "  -8.34525228e-02 -1.04216330e-01  7.20905736e-02 -1.41503289e-01\n",
      "   4.45530526e-02  3.44220012e-01 -3.65522094e-02  4.44021486e-02\n",
      "   1.54400319e-02 -1.33660913e-01  1.87139772e-02 -7.99798891e-02\n",
      "   1.64494187e-01  1.32409349e-01 -2.09638253e-01 -5.17163239e-02\n",
      "   2.07703672e-02 -2.65735239e-01 -2.44222894e-01 -5.95047437e-02\n",
      "  -1.51510239e-01 -1.11315712e-01 -8.44695121e-02  1.02996854e-02\n",
      "   1.68514282e-01 -2.81164795e-02  1.53924227e-01  1.77302793e-01\n",
      "  -1.43552914e-01 -1.26081198e-01  2.12105617e-01 -1.91594943e-01\n",
      "  -4.11679037e-02 -1.28700897e-01  1.05543330e-01 -6.87066466e-02\n",
      "  -1.77468672e-01  6.10748455e-02 -6.57092214e-01 -1.56631857e-01\n",
      "   2.16632888e-01  3.02075706e-02  1.38031453e-01  3.18464309e-01\n",
      "   4.20628458e-01  8.04734826e-02  2.11077303e-01  1.24626392e-02\n",
      "  -3.75240117e-01  2.71351673e-02  8.39292780e-02  2.17363104e-01\n",
      "   2.09431555e-02 -1.78300053e-01 -2.65146550e-02 -2.15975136e-01\n",
      "  -6.63210824e-02 -4.84154038e-02 -3.40594687e-02 -7.23134801e-02\n",
      "   1.67705521e-01  6.14486411e-02 -1.24425232e-01  1.38016433e-01\n",
      "  -5.54647967e-02 -6.34938851e-02  1.83749959e-01  2.83674687e-01\n",
      "  -4.79467586e-02  2.56118979e-02 -1.27103617e-02  9.28513557e-02\n",
      "  -4.22673337e-02 -7.30879158e-02 -2.13941738e-01 -8.31554532e-02\n",
      "   1.51282087e-01 -1.29713193e-01  1.62183240e-01  1.07969590e-01\n",
      "   6.23424165e-02  8.34912062e-02  2.78641790e-01  2.38817453e-01\n",
      "   7.77432472e-02 -1.40985608e-01 -1.77647799e-01 -1.46233588e-01\n",
      "  -2.92418208e-02  1.56431839e-01  1.82027221e-02  6.64298609e-02\n",
      "  -1.05425939e-01  1.65938452e-01 -9.26391855e-02 -1.39901921e-01\n",
      "   6.35361597e-02 -5.03305271e-02 -2.16635630e-01  1.19794533e-01\n",
      "   1.44405916e-01  4.29239310e-02  1.03511877e-01  8.24944526e-02\n",
      "   3.29492465e-02 -2.80454047e-02  1.12628929e-01  1.91095993e-01\n",
      "  -1.53578296e-01 -7.12202163e-03 -2.13215813e-01  3.12985986e-01\n",
      "  -4.65050079e-02  1.99375391e-01  5.49307466e-02 -2.89508760e-01\n",
      "  -2.12632567e-01 -8.77613574e-03  2.74156243e-01  6.45329803e-02\n",
      "  -7.02804001e-03 -3.31278861e-01 -2.01671035e-03 -2.51161635e-01\n",
      "   4.07927364e-01  2.22321406e-01 -1.46095473e-02  7.68537149e-02\n",
      "   8.89440775e-02 -5.99615239e-02  2.55117156e-02 -6.21123351e-02\n",
      "   4.01690483e-01 -1.97129533e-01  2.83976831e-02  2.15462461e-01\n",
      "  -2.27981135e-01  3.54870618e-03  1.52945025e-02 -7.27919163e-03\n",
      "   2.16581687e-01  2.92891175e-01  4.14834503e-04 -1.78954960e-03\n",
      "   2.17073467e-02 -1.50060415e-01  3.27547371e-01  2.24993110e-01\n",
      "  -6.44065766e-03  5.71299382e-02  1.85064096e-02  1.11019000e-01\n",
      "   6.18503895e-03 -5.36945798e-02  9.99385398e-03  1.42091230e-01\n",
      "  -2.45544955e-01  2.69659489e-01 -3.70761156e-02  1.98507849e-02\n",
      "  -5.47790639e-02  1.23887800e-01  1.15951881e-01  3.67341228e-02\n",
      "   2.44817466e-01  2.80252874e-01  1.32842585e-01  1.83748275e-01\n",
      "  -1.49630800e-01  4.86942828e-02 -7.37011209e-02  1.94916815e-01\n",
      "   1.59849152e-01 -1.84571847e-01 -3.19021530e-02  3.17358553e-01\n",
      "   3.02945465e-01 -6.52694851e-02 -1.47943452e-01  5.60838543e-02\n",
      "   2.63371654e-02 -4.24044468e-02  2.39003047e-01 -5.65652130e-03\n",
      "   4.02444005e-02  6.26726002e-02  1.18647233e-01 -1.50233194e-01\n",
      "  -4.35305294e-03 -1.88045558e-02  8.21637288e-02  8.86798128e-02\n",
      "   2.03958765e-01 -5.26863076e-02 -8.32642466e-02  2.56426185e-01\n",
      "  -2.56282955e-01  8.81491303e-02 -1.51027311e-02  1.07559876e-03\n",
      "   9.92840976e-02  1.02876760e-01  2.24282709e-03  4.93547656e-02\n",
      "   9.82288495e-02  1.69784978e-01 -2.63378378e-02 -8.94651562e-02\n",
      "  -1.07978053e-01 -1.37863038e-02 -6.69000996e-03  1.75598189e-01\n",
      "  -3.54976095e-02 -1.30034253e-01 -1.93476349e-01  2.22972929e-02\n",
      "   6.43861443e-02  9.53858420e-02  9.43670347e-02 -1.95334554e-02\n",
      "   2.41912454e-01  2.30187178e-02  9.08183232e-02 -1.32763401e-01\n",
      "  -2.89044082e-01 -2.08898424e-03 -1.40824333e-01 -1.89768568e-01\n",
      "   1.47531644e-01  1.20886840e-01 -3.95960584e-02  2.22880155e-01\n",
      "   1.18591294e-01  1.08505681e-01  3.51078026e-02 -2.20233891e-02\n",
      "   1.32432804e-01 -6.10337369e-02 -8.53097066e-02  1.08871177e-01\n",
      "   1.60719138e-02  4.42844965e-02  4.78339717e-02 -1.49989605e-01\n",
      "  -1.03243932e-01 -5.99196181e-02  3.99992228e-01  1.56178877e-01\n",
      "  -9.70888063e-02  3.73368785e-02 -1.48589835e-01 -2.57392041e-02\n",
      "   2.89544966e-02  1.68502286e-01 -3.49482670e-02 -1.91340134e-01\n",
      "  -8.20500776e-02 -4.22669239e-02  1.81760266e-01 -2.06573114e-01\n",
      "  -8.77298787e-02  2.93880254e-02 -3.13162394e-02 -1.20310830e-02\n",
      "  -1.46450400e-01 -1.18538693e-01  4.18223739e-02  2.16259509e-01\n",
      "   4.77615260e-02  1.86116800e-01 -8.72570947e-02  4.87434685e-01\n",
      "   9.38167199e-02  9.95909497e-02 -4.75407913e-02  1.13171570e-01\n",
      "  -1.62785560e-01  2.69689988e-02  1.97383299e-01  6.09908104e-02\n",
      "  -1.53624684e-01 -1.44447014e-01  8.99784558e-04 -4.26211767e-02\n",
      "   1.25085726e-01  2.16643307e-02  3.67471837e-02  2.43313268e-01\n",
      "  -1.94991156e-01  6.05672365e-03  1.44048417e+00  3.82000446e-01\n",
      "  -8.73812288e-02 -1.21745482e-01  3.99620235e-01 -6.71288967e-02\n",
      "   2.54829735e-01  3.02015245e-01  2.68518060e-01  1.01285120e-02\n",
      "  -3.88124585e-03  1.24534741e-01  3.08519863e-02  1.13207974e-01\n",
      "   1.88868880e-01  9.93705541e-02 -6.91020712e-02 -8.24953839e-02\n",
      "   5.29133007e-02  1.46087915e-01 -9.85365689e-01  1.54108807e-01\n",
      "   2.40063295e-01 -1.08440861e-01  1.00429259e-01 -5.92305586e-02\n",
      "   1.15240291e-01 -4.82617877e-02 -8.23356211e-04  1.30588949e-01\n",
      "  -3.82481478e-02  2.86946803e-01 -1.90746814e-01 -1.49402106e-02\n",
      "   1.29158765e-01  2.61258692e-01  1.99537590e-01 -2.59959102e-02\n",
      "   1.05841279e-01 -8.92510265e-02  2.15037346e-01  1.07278032e-02\n",
      "  -5.00597283e-02  3.20147760e-02  2.59160668e-01 -1.63506001e-01\n",
      "  -1.13308445e-01  7.83359259e-02 -2.07458898e-01 -6.42999336e-02\n",
      "  -1.87591035e-02 -6.72966316e-02  4.12831418e-02 -1.48352697e-01\n",
      "   3.63138062e-03  2.74024546e-01  1.47726268e-01 -1.19395694e-02\n",
      "   5.53573370e-02  1.74856614e-04 -1.66972689e-02  2.45461211e-01\n",
      "   1.72638744e-02  1.08382441e-01 -3.00374627e-02  1.02452263e-02\n",
      "  -1.02390321e-02 -1.15357324e-01  3.03972542e-01  4.13649194e-02\n",
      "  -2.80813932e-01 -3.80598009e-02  2.17511415e-01  1.77877218e-01\n",
      "  -8.32499098e-03 -2.12352276e-01 -1.18586794e-01  1.95803791e-01\n",
      "   2.24398717e-01  4.52846289e-02 -8.88015628e-02  1.47875428e-01\n",
      "   1.37506053e-01  1.51002362e-01  2.30111644e-01 -6.48641065e-02\n",
      "  -1.17195055e-01 -1.15540370e-01 -7.95630366e-02  1.85394138e-01\n",
      "  -1.78651825e-01 -1.45858331e-02  1.52052164e-01  2.64054447e-01\n",
      "   1.98633909e-01 -1.37352377e-01  1.61470845e-01  1.12193767e-02\n",
      "  -1.91784762e-02  2.06129164e-01 -1.13187142e-01 -5.55875041e-02\n",
      "   1.23157069e-01  9.14728791e-02 -1.41950389e-02  1.07565157e-01\n",
      "   2.91581452e-03 -4.45537344e-02 -2.20517606e-01  8.84205252e-02\n",
      "   1.31014466e-01  9.29512177e-03  2.49402553e-01  3.47873047e-02\n",
      "   4.05118056e-02 -1.68045714e-01 -7.92137384e-02  1.34870768e-01\n",
      "  -2.63145298e-01  1.56593725e-01  1.94932029e-01 -1.32314354e-01\n",
      "   4.41856906e-02 -9.81103349e-03  2.62678444e-01 -2.63776392e-01\n",
      "   1.74879998e-01  4.41312008e-02 -2.23287806e-01 -1.53936073e-02\n",
      "  -1.74071461e-01 -3.52602527e-02  2.70163625e-01 -1.39534310e-01\n",
      "   2.32906595e-01 -9.77207646e-02 -3.19049321e-02 -1.07379714e-02\n",
      "   6.85387626e-02  2.43784055e-01  2.05633402e-01  6.24648556e-02\n",
      "   9.04743224e-02  1.78502351e-01 -8.95329788e-02  1.35178968e-01\n",
      "  -9.17798430e-02  2.42964312e-01 -4.34037521e-02 -1.33300424e-01\n",
      "  -6.90166116e-01  3.89390960e-02  4.03527081e-01  9.29841176e-02\n",
      "  -2.03394651e-01  2.74506688e-01  2.13196710e-01 -1.16315141e-01\n",
      "  -5.52829243e-02  8.69482830e-02  1.19095102e-01  4.18811560e-01\n",
      "   8.06615353e-02 -2.32950486e-02  1.05217628e-01 -2.54712552e-01\n",
      "  -6.88171238e-02  3.24367613e-01 -2.46898517e-01  2.55325586e-02\n",
      "   2.14832500e-01  1.73231773e-02 -7.86153078e-02 -8.70064944e-02\n",
      "  -5.37347272e-02  7.87809417e-02  8.07553455e-02  1.91237524e-01]]\n"
     ]
    }
   ],
   "source": [
    "query = \"Điểm chuẩn ngành an toàn thông tin theo phương thức thi thpt 2023 miền bắc?\"\n",
    "processed_query = processing_text(query)\n",
    "print(processed_query)\n",
    "query_vector = encode_question(processed_query)\n",
    "print(query_vector.shape)\n",
    "print(query_vector)\n"
   ]
  },
  {
   "cell_type": "code",
   "execution_count": 182,
   "metadata": {},
   "outputs": [
    {
     "name": "stdout",
     "output_type": "stream",
     "text": [
      "Cosine similarities:\n",
      "[[0.88356024]]\n"
     ]
    }
   ],
   "source": [
    "from sklearn.metrics.pairwise import cosine_similarity\n",
    "\n",
    "\n",
    "# Calculate cosine similarity\n",
    "cosine_similarities = cosine_similarity(query_vector,fifth_element)\n",
    "\n",
    "# Print cosine similarities\n",
    "print(\"Cosine similarities:\")\n",
    "print(cosine_similarities)\n",
    "\n",
    "\n"
   ]
  },
  {
   "cell_type": "code",
   "execution_count": 188,
   "metadata": {},
   "outputs": [
    {
     "name": "stdout",
     "output_type": "stream",
     "text": [
      "0.7649182081222534\n",
      "điểm_chuẩn ngành công_nghệ internet vạn_vật theo phương_thức thi thpt 2022\n",
      "điểm_chuẩn ngành công_nghệ internet vạn_vật iot theo phương_thức thi thpt năm 2022 tại cơ_sở miền nam\n",
      "Điểm chuẩn ngành công nghệ internet vạn vật (iot) theo phương thức thi thpt năm 2022 tại cơ sở miền nam là bao nhiêu?\n",
      "Điểm chuẩn ngành công nghệ internet vạn vật (iot) theo phương thức thi thpt năm 2022 tại cơ sở miền nam là 20.7\n"
     ]
    }
   ],
   "source": [
    "\n",
    "questions_vector = df['question_vector']\n",
    "processed_questions = df['processed_question']  \n",
    "questions = df['question']\n",
    "def get_response(user_query):\n",
    "    processed_query = processing_text_for_query(user_query)\n",
    "    query_vector = encode_question(processed_query)\n",
    "    # Tính toán độ tương đồng cosine giữa câu truy vấn của người dùng và các câu hỏi trong database\n",
    "    cosine_similarities = [cosine_similarity(\n",
    "        query_vector, qv).flatten() for qv in questions_vector]\n",
    "    jaccard_similarities = [jaccard_similarity(\n",
    "        processed_query, q) for q in  df['processed_question']]\n",
    "\n",
    "    # Kết hợp kết quả từ hai độ tương đồng\n",
    "    alpha = 0.6\n",
    "    beta = 0.4\n",
    "    # Chuyển đổi jaccard_similarities thành mảng một chiều\n",
    "    jaccard_array = np.array(jaccard_similarities).reshape(len(df['processed_question']),1)\n",
    "\n",
    "    # Kết hợp điểm số từ hai độ tương đồng\n",
    "    combined_scores = alpha * np.array(cosine_similarities) + beta * jaccard_array\n",
    "\n",
    "    best_match_index = np.argmax(combined_scores)\n",
    "    if np.max(combined_scores) > 0.6:\n",
    "        print(np.max(combined_scores))\n",
    "        print(processed_query)\n",
    "        print(processed_questions[best_match_index])\n",
    "        print(questions[best_match_index])\n",
    "        return answers[best_match_index]\n",
    "    else:\n",
    "        return \"Tôi không hiểu câu hỏi của bạn. Vui lòng đặt câu hỏi đầy đủ hơn.\"\n",
    "user_input = \"điểm chuẩn ngành iot theo phương thức thi thpt 2022  ??\"\n",
    "response = get_response(user_input)\n",
    "print(response)\n",
    "\n",
    "# # Chạy chatbot\n",
    "# user_input = input(\"You: \")\n",
    "# if user_input.lower() == \"exit\":\n",
    "#     break\n",
    "# response = get_response(user_input)\n",
    "# print(f\"Bot: {response}\")"
   ]
  },
  {
   "cell_type": "code",
   "execution_count": 184,
   "metadata": {},
   "outputs": [
    {
     "name": "stdout",
     "output_type": "stream",
     "text": [
      "[[0.47368421]]\n",
      "(1, 1)\n",
      "(1, 1)\n",
      "(1, 1)\n"
     ]
    }
   ],
   "source": [
    "jc = jaccard_similarity(processed_query,df['processed_question'].iloc[313] )\n",
    "print(np.array([[jc]]))\n",
    "print(np.array([[jc]]).shape)\n",
    "\n",
    "print(cosine_similarities.shape)\n",
    "print(np.array(cosine_similarities).shape)\n"
   ]
  },
  {
   "cell_type": "code",
   "execution_count": 185,
   "metadata": {},
   "outputs": [
    {
     "name": "stdout",
     "output_type": "stream",
     "text": [
      "Điểm chuẩn ngành kỹ thuật điều khiển và tự động hóa theo phương thức thi thpt năm 2023 tại cơ sở miền bắc là bao nhiêu?\n",
      "điểm_chuẩn ngành kỹ_thuật điều_khiển và tự_động hóa theo phương_thức thi thpt năm 2023 tại cơ_sở miền bắc\n"
     ]
    }
   ],
   "source": [
    "questions = df['question']\n",
    "processed_questions = df['processed_question']  \n",
    "print(questions.iloc[313])\n",
    "print(processed_questions.iloc[313])"
   ]
  }
 ],
 "metadata": {
  "kernelspec": {
   "display_name": "Python 3",
   "language": "python",
   "name": "python3"
  },
  "language_info": {
   "codemirror_mode": {
    "name": "ipython",
    "version": 3
   },
   "file_extension": ".py",
   "mimetype": "text/x-python",
   "name": "python",
   "nbconvert_exporter": "python",
   "pygments_lexer": "ipython3",
   "version": "3.10.6"
  }
 },
 "nbformat": 4,
 "nbformat_minor": 2
}
