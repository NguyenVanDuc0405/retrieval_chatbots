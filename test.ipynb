{
 "cells": [
  {
   "cell_type": "code",
   "execution_count": 56,
   "metadata": {},
   "outputs": [],
   "source": [
    "from sklearn.feature_extraction.text import TfidfVectorizer\n",
    "from sklearn.metrics.pairwise import cosine_similarity\n",
    "import numpy as np\n",
    "import pandas as pd\n",
    "import re\n"
   ]
  },
  {
   "cell_type": "code",
   "execution_count": 57,
   "metadata": {},
   "outputs": [],
   "source": [
    "# Tính toán Jaccard similarity\n",
    "def jaccard_similarity(query, document):\n",
    "    query_words = set(re.split(r'\\s+', query.lower().strip()))\n",
    "    doc_words = set(re.split(r'\\s+', document.lower().strip()))\n",
    "    intersection = query_words.intersection(doc_words)\n",
    "    union = query_words.union(doc_words)\n",
    "    return len(intersection) / len(union)"
   ]
  },
  {
   "cell_type": "code",
   "execution_count": 58,
   "metadata": {},
   "outputs": [
    {
     "name": "stdout",
     "output_type": "stream",
     "text": [
      "0      Nguyên tắc xét tuyển của học viện năm nay ntn?...\n",
      "1                       Câu hỏi thường gặp về tuyển sinh\n",
      "2      Chương trình đào tạo tại miền Nam có khác với ...\n",
      "3      Trường mình có 2 cơ sở, vậy sẽ phân bố học sin...\n",
      "4      Em đăng ký NV1 là ngành An toàn thông tin, NV2...\n",
      "                             ...                        \n",
      "567    Điểm chuẩn, chỉ tiêu ngành công nghệ internet ...\n",
      "568    Điểm chuẩn, chỉ tiêu ngành công nghệ internet ...\n",
      "569    Điểm chuẩn, chỉ tiêu ngành công nghệ internet ...\n",
      "570    Điểm chuẩn, chỉ tiêu ngành công nghệ internet ...\n",
      "571                                           Bạn là ai?\n",
      "Name: question, Length: 572, dtype: object\n"
     ]
    }
   ],
   "source": [
    "df = pd.read_csv('questions_answers.csv')\n",
    "\n",
    "# Tách câu hỏi và câu trả lời\n",
    "questions = df['question']\n",
    "answers = df['answer']\n",
    "print(questions)"
   ]
  },
  {
   "cell_type": "code",
   "execution_count": 59,
   "metadata": {},
   "outputs": [
    {
     "name": "stdout",
     "output_type": "stream",
     "text": [
      "Trước khi xử lý: Tôi đang học cntt và muốn tìm hiểu về ngành clc\n",
      "Sau khi xử lý: Tôi đang học công nghệ thông tin và muốn tìm hiểu về ngành chất lượng cao\n"
     ]
    }
   ],
   "source": [
    "# Tạo bộ từ điển các từ viết tắt\n",
    "abbreviation_dict = {\n",
    "    \"cntt\": \"công nghệ thông tin\",\n",
    "    \"attt\": \"an toàn thông tin\",\n",
    "    \"iot\": \"công nghệ internet vạn vật\",\n",
    "    \"fintech\": \"công nghệ tài chính\",\n",
    "    \"cndpt\": \"công nghệ đa phương tiện\",\n",
    "    \"ttdpt\": \"truyền thông đa phương tiện\",\n",
    "    \"qtkd\": \"quản trị kinh doanh\",\n",
    "    \"tmdt\": \"thương mại điện tử\",\n",
    "    \"khmt\": \"khoa học máy tính\",\n",
    "    \"clc\": \"chất lượng cao\",\n",
    "}\n",
    "\n",
    "# Hàm để thay thế các từ viết tắt trong câu bằng từ đầy đủ\n",
    "def replace_abbreviations(text, abbreviation_dict):\n",
    "    words = text.split()\n",
    "    new_words = []\n",
    "    for word in words:\n",
    "        if word in abbreviation_dict:\n",
    "            new_words.append(abbreviation_dict[word])\n",
    "        else:\n",
    "            new_words.append(word)\n",
    "    return ' '.join(new_words)\n",
    "\n",
    "# Ví dụ sử dụng\n",
    "user_input = \"Tôi đang học cntt và muốn tìm hiểu về ngành clc\"\n",
    "processed_input = replace_abbreviations(user_input, abbreviation_dict)\n",
    "\n",
    "print(\"Trước khi xử lý:\", user_input)\n",
    "print(\"Sau khi xử lý:\", processed_input)\n"
   ]
  },
  {
   "cell_type": "code",
   "execution_count": 60,
   "metadata": {},
   "outputs": [
    {
     "data": {
      "text/plain": [
       "'Chi tiết về     Xét tuyển tài năng'"
      ]
     },
     "execution_count": 60,
     "metadata": {},
     "output_type": "execute_result"
    }
   ],
   "source": [
    "import string\n",
    "\n",
    "def remove_punctuation(text):\n",
    "    return text.translate(str.maketrans('', '', string.punctuation))\n",
    "\n",
    "remove_punctuation(\"Chi tiết về     Xét tuyển tài năng?@\")"
   ]
  },
  {
   "cell_type": "code",
   "execution_count": 61,
   "metadata": {},
   "outputs": [
    {
     "data": {
      "text/plain": [
       "'chi tiết về     xét tuyển tài năng'"
      ]
     },
     "execution_count": 61,
     "metadata": {},
     "output_type": "execute_result"
    }
   ],
   "source": [
    "def to_lowercase(text):\n",
    "    return text.lower()\n",
    "to_lowercase('Chi tiết về     Xét tuyển tài năng')\n"
   ]
  },
  {
   "cell_type": "code",
   "execution_count": 62,
   "metadata": {},
   "outputs": [
    {
     "data": {
      "text/plain": [
       "'chi tiết về     xét tuyển tài năng năm 2021  2022 2023'"
      ]
     },
     "execution_count": 62,
     "metadata": {},
     "output_type": "execute_result"
    }
   ],
   "source": [
    "def replace_comma(text):\n",
    "    return \" \".join(text.split(\",\"))\n",
    "replace_comma('chi tiết về     xét tuyển tài năng năm 2021, 2022,2023')\n"
   ]
  },
  {
   "cell_type": "code",
   "execution_count": 63,
   "metadata": {},
   "outputs": [
    {
     "data": {
      "text/plain": [
       "'chi_tiết về xét tuyển tài_năng năm 2021 2022 2023'"
      ]
     },
     "execution_count": 63,
     "metadata": {},
     "output_type": "execute_result"
    }
   ],
   "source": [
    "from pyvi import ViTokenizer\n",
    "def tokenizerText(text):\n",
    "    return ViTokenizer.tokenize(text)\n",
    "tokenizerText('chi tiết về     xét tuyển tài năng năm 2021  2022 2023')"
   ]
  },
  {
   "cell_type": "code",
   "execution_count": 64,
   "metadata": {},
   "outputs": [
    {
     "data": {
      "text/plain": [
       "'Học máy rất thú_vị .'"
      ]
     },
     "execution_count": 64,
     "metadata": {},
     "output_type": "execute_result"
    }
   ],
   "source": [
    "tokenizerText(\"Học máy rất thú vị.\")"
   ]
  },
  {
   "cell_type": "code",
   "execution_count": 65,
   "metadata": {},
   "outputs": [
    {
     "name": "stdout",
     "output_type": "stream",
     "text": [
      "{'biết_đâu_chừng', 'biết_mấy', 'là_thế_nào', 'cho_được', 'bao_lâu', 'bị', 'cho_thấy', 'biết_chừng_nào', 'bởi_đâu', 'biết', 'bỗng_thấy', 'bây_nhiêu', 'là_vì', 'biết_chắc', 'cho_ăn', 'ngay_khi_đến', 'dù_sao', 'biết_trước', 'biết_bao', 'bởi_nhưng', 'bỗng_nhiên', 'bấy_nay', 'cho_đến_khi', 'bỗng_nhưng', 'bỗng_đâu', 'dù_rằng', 'biết_mình', 'làm_cho', 'ngay_thật', 'cho_rồi', 'cho_đang', 'bởi_thế', 'ngay_bây_giờ', 'là_ít', 'bỗng_không', 'cho_rằng', 'là', 'là_nhiều', 'là_cùng', 'bấy_lâu', 'bỗng', 'cho_hay', 'cho_về', 'biết_bao_nhiêu', 'bấy_lâu_nay', 'làm_bằng', 'bởi_chưng', 'cho_biết', 'biết_được', 'cho_tin', 'ngay_cả', 'bỗng_dưng', 'bởi_vì', 'cho_tới_khi', 'cho_đến', 'cho_tới', 'biết_thế', 'dù_gì', 'cho_nhau', 'bởi_thế_cho_nên', 'biết_việc', 'bởi_sao', 'ngay_khi', 'cho_nên', 'ngay_lúc', 'biết_đâu_đấy', 'dù_dì', 'làm', 'bởi', 'bỗng_chốc', 'cho_chắc', 'ngay_lúc_này', 'là_phải', 'bởi_tại', 'bấy_nhiêu', 'ngay_từ', 'dù_cho', 'ngay_tức_thì', 'bây_giờ', 'ngay_tức_khắc', 'biết_đâu', 'bao_nhiêu', 'bấy_giờ', 'là_là', 'bao_giờ', 'bởi_vậy', 'cho', 'cho_đến_nỗi', 'bởi_ai', 'ngay_lập_tức'}\n",
      "90\n"
     ]
    }
   ],
   "source": [
    "# Khởi tạo tập hợp để lưu trữ các từ dừng\n",
    "stopwords = set()\n",
    "\n",
    "# Đọc từng hàng trong file stopwords.txt\n",
    "with open('stopwords.txt', 'r', encoding='utf-8') as fp:\n",
    "    for line in fp:\n",
    "        word = line.strip() # Loại bỏ khoảng trắng đầu và cuối dòng\n",
    "        if word:  # Kiểm tra xem dòng không rỗng\n",
    "            stopwords.add(word)\n",
    "\n",
    "# In danh sách các từ dừng\n",
    "print(stopwords)\n",
    "print(len(stopwords))\n"
   ]
  },
  {
   "cell_type": "code",
   "execution_count": 66,
   "metadata": {},
   "outputs": [
    {
     "name": "stdout",
     "output_type": "stream",
     "text": [
      "Điểm_chuẩn ngành cntt theo phương_thức thi thpt 2023 là bao_nhiêu ?\n",
      "Điểm_chuẩn ngành cntt theo phương_thức thi thpt 2023 ?\n"
     ]
    }
   ],
   "source": [
    "def remove_stopwords(line):\n",
    "    words = []\n",
    "    for word in line.split():\n",
    "        if word not in stopwords:\n",
    "            words.append(word)\n",
    "    return ' '.join(words)\n",
    "text = 'Điểm chuẩn ngành cntt theo phương thức thi thpt 2023 là bao nhiêu?'\n",
    "print(tokenizerText(text))\n",
    "print(remove_stopwords(tokenizerText(text)))"
   ]
  },
  {
   "cell_type": "code",
   "execution_count": 67,
   "metadata": {},
   "outputs": [],
   "source": [
    "def processing_text_for_db(text):\n",
    "    text = remove_punctuation(text)\n",
    "    text = to_lowercase(text)\n",
    "    text = replace_comma(text)\n",
    "    text = tokenizerText(text)\n",
    "    text = remove_stopwords(text)\n",
    "    return text"
   ]
  },
  {
   "cell_type": "code",
   "execution_count": 68,
   "metadata": {},
   "outputs": [],
   "source": [
    "def processing_text_for_query(text):\n",
    "    text = remove_punctuation(text)\n",
    "    text = to_lowercase(text)\n",
    "    text = replace_comma(text)\n",
    "    text = replace_abbreviations(text, abbreviation_dict)\n",
    "    text = tokenizerText(text)\n",
    "    text = remove_stopwords(text)\n",
    "    return text"
   ]
  },
  {
   "cell_type": "markdown",
   "metadata": {},
   "source": [
    "Demo preprocessing question"
   ]
  },
  {
   "cell_type": "code",
   "execution_count": 69,
   "metadata": {},
   "outputs": [
    {
     "name": "stdout",
     "output_type": "stream",
     "text": [
      "điểm_chuẩn ngành công_nghệ thông_tin chất_lượng cao năm 2023 theo phương_thức thi thpt tại cơ_sở miền bắc\n",
      "202120222023\n"
     ]
    }
   ],
   "source": [
    "q = \"Điểm chuẩn ngành cntt clc năm 2023 theo phương thức thi thpt tại cơ sở miền bắc   là bao   nhiêu ?!$\"\n",
    "q1 = \"2021,2022,2023\"\n",
    "print(processing_text_for_query(q))\n",
    "print(processing_text_for_query(q1))\n",
    "\n"
   ]
  },
  {
   "cell_type": "code",
   "execution_count": 70,
   "metadata": {},
   "outputs": [
    {
     "name": "stdout",
     "output_type": "stream",
     "text": [
      "572\n",
      "                                            question  \\\n",
      "0  Nguyên tắc xét tuyển của học viện năm nay ntn?...   \n",
      "1                   Câu hỏi thường gặp về tuyển sinh   \n",
      "2  Chương trình đào tạo tại miền Nam có khác với ...   \n",
      "3  Trường mình có 2 cơ sở, vậy sẽ phân bố học sin...   \n",
      "4  Em đăng ký NV1 là ngành An toàn thông tin, NV2...   \n",
      "\n",
      "                                              answer  \\\n",
      "0  I. Xét tuyển dựa vào kết quả thi THPT 2024:\\n-...   \n",
      "1                            Bạn đang gặp vấn đề gì?   \n",
      "2  Chương trình đào tạo của Học viện được áp dụng...   \n",
      "3  Chỉ tiêu đào tạo của từng cơ sở đã được Học vi...   \n",
      "4  Không được em nhé! Theo nguyên tắc xét tuyển t...   \n",
      "\n",
      "                                  processed_question  \n",
      "0  nguyên_tắc xét tuyển của học_viện năm nay ntn ...  \n",
      "1                   câu hỏi thường gặp về tuyển_sinh  \n",
      "2  chương_trình đào_tạo tại miền nam có khác với ...  \n",
      "3  trường mình có 2 cơ_sở vậy sẽ phân_bố học_sinh...  \n",
      "4  em đăng_ký nv1 ngành an_toàn thông_tin nv2 ngà...  \n"
     ]
    }
   ],
   "source": [
    "processed_questions = []\n",
    "for question in questions:  # Sử dụng tqdm để theo dõi tiến trình nếu cần\n",
    "    # Áp dụng các hàm tiền xử lý\n",
    "    processed_text = processing_text_for_db(question)\n",
    "   \n",
    "    # Lưu kết quả vào list processed_questions\n",
    "    processed_questions.append(processed_text)\n",
    "\n",
    "# Thêm cột mới vào DataFrame hoặc ghi đè lên cột 'question' hiện tại\n",
    "df['processed_question'] = processed_questions\n",
    "\n",
    "print(len(df))\n",
    "# In ra vài dòng đầu của DataFrame sau khi đã tiền xử lý\n",
    "print(df.head())"
   ]
  },
  {
   "cell_type": "code",
   "execution_count": 71,
   "metadata": {},
   "outputs": [],
   "source": [
    "# import torch\n",
    "# from transformers import AutoModel, AutoTokenizer\n",
    "\n",
    "# phobert = AutoModel.from_pretrained(\"vinai/phobert-base-v2\")\n",
    "# tokenizer = AutoTokenizer.from_pretrained(\"vinai/phobert-base-v2\")\n",
    "\n",
    "# # Function to encode each question into vector representation\n",
    "# def encode_question(question):\n",
    "#     # Tokenize the question\n",
    "#     tokens = tokenizer.tokenize(question)\n",
    "#     # Encode tokens to input_ids\n",
    "#     input_ids = tokenizer.convert_tokens_to_ids(tokens)\n",
    "#     # Convert to PyTorch tensor\n",
    "#     input_ids = torch.tensor([input_ids])\n",
    "#     # Get features from PhoBERT\n",
    "#     with torch.no_grad():\n",
    "#         features = phobert(input_ids)\n",
    "#     # Return the representation vector of the sentence\n",
    "#     return features[0].squeeze().tolist()\n",
    "\n",
    "# df['question_vector'] = questions.apply(encode_question)\n",
    "# print(df.head())\n",
    "\n"
   ]
  },
  {
   "cell_type": "code",
   "execution_count": 72,
   "metadata": {},
   "outputs": [
    {
     "name": "stderr",
     "output_type": "stream",
     "text": [
      "Some weights of RobertaModel were not initialized from the model checkpoint at vinai/phobert-base-v2 and are newly initialized: ['roberta.pooler.dense.bias', 'roberta.pooler.dense.weight']\n",
      "You should probably TRAIN this model on a down-stream task to be able to use it for predictions and inference.\n",
      "c:\\Users\\Admin\\AppData\\Local\\Programs\\Python\\Python310\\lib\\site-packages\\huggingface_hub\\file_download.py:1132: FutureWarning: `resume_download` is deprecated and will be removed in version 1.0.0. Downloads always resume when possible. If you want to force a new download, use `force_download=True`.\n",
      "  warnings.warn(\n",
      "Asking to truncate to max_length but no maximum length is provided and the model has no predefined maximum length. Default to no truncation.\n"
     ]
    },
    {
     "name": "stdout",
     "output_type": "stream",
     "text": [
      "                                            question  \\\n",
      "0  Nguyên tắc xét tuyển của học viện năm nay ntn?...   \n",
      "1                   Câu hỏi thường gặp về tuyển sinh   \n",
      "2  Chương trình đào tạo tại miền Nam có khác với ...   \n",
      "3  Trường mình có 2 cơ sở, vậy sẽ phân bố học sin...   \n",
      "4  Em đăng ký NV1 là ngành An toàn thông tin, NV2...   \n",
      "\n",
      "                                              answer  \\\n",
      "0  I. Xét tuyển dựa vào kết quả thi THPT 2024:\\n-...   \n",
      "1                            Bạn đang gặp vấn đề gì?   \n",
      "2  Chương trình đào tạo của Học viện được áp dụng...   \n",
      "3  Chỉ tiêu đào tạo của từng cơ sở đã được Học vi...   \n",
      "4  Không được em nhé! Theo nguyên tắc xét tuyển t...   \n",
      "\n",
      "                                  processed_question  \\\n",
      "0  nguyên_tắc xét tuyển của học_viện năm nay ntn ...   \n",
      "1                   câu hỏi thường gặp về tuyển_sinh   \n",
      "2  chương_trình đào_tạo tại miền nam có khác với ...   \n",
      "3  trường mình có 2 cơ_sở vậy sẽ phân_bố học_sinh...   \n",
      "4  em đăng_ký nv1 ngành an_toàn thông_tin nv2 ngà...   \n",
      "\n",
      "                                     question_vector  \n",
      "0  [[0.1709639, 0.14100796, -0.063406214, -0.0117...  \n",
      "1  [[0.14806189, 0.2533374, -0.09706271, -0.23339...  \n",
      "2  [[0.16127539, 0.073697686, -0.018715281, -0.06...  \n",
      "3  [[0.05474929, 0.13018925, -0.06304047, -0.0536...  \n",
      "4  [[0.109627046, 0.05102121, -0.08233649, -0.118...  \n"
     ]
    }
   ],
   "source": [
    "import torch\n",
    "from transformers import AutoModel, AutoTokenizer\n",
    "\n",
    "phobert = AutoModel.from_pretrained(\"vinai/phobert-base-v2\")\n",
    "tokenizer = AutoTokenizer.from_pretrained(\"vinai/phobert-base-v2\")\n",
    "\n",
    "# Function to encode each question into vector representation\n",
    "def encode_question(question):\n",
    "   # Tokenize và chuyển đổi câu văn bản thành tensor\n",
    "    tokens = tokenizer(question, return_tensors='pt', padding=True, truncation=True)\n",
    "\n",
    "    # Sử dụng model để mã hóa câu văn bản thành vector\n",
    "    with torch.no_grad():\n",
    "        output = phobert(**tokens)\n",
    "\n",
    "    # Lấy vector biểu diễn từ outputs của model\n",
    "    return output.last_hidden_state.mean(dim=1).numpy()  # Trung bình các vector token\n",
    "\n",
    "df['question_vector'] = df['processed_question'].apply(encode_question)\n",
    "print(df.head())\n",
    "\n"
   ]
  },
  {
   "cell_type": "code",
   "execution_count": 73,
   "metadata": {},
   "outputs": [
    {
     "name": "stdout",
     "output_type": "stream",
     "text": [
      "Điểm chuẩn ngành quản trị kinh doanh theo phương thức thi thpt năm 2023 tại cơ sở miền bắc là bao nhiêu?\n",
      "điểm_chuẩn ngành quản_trị kinh_doanh theo phương_thức thi thpt năm 2023 tại cơ_sở miền bắc\n",
      "điểm_chuẩn ngành công_nghệ kỹ_thuật điện điện_tử theo phương_thức thi thpt năm 2023 tại cơ_sở miền bắc\n",
      "(1, 768)\n",
      "[[ 2.90340215e-01  1.36474580e-01 -1.56192333e-01 -1.76405996e-01\n",
      "  -1.07408777e-01 -9.27470438e-03  4.02296819e-02  1.04929879e-01\n",
      "  -2.11213946e-01  5.33469729e-02 -1.14897422e-01  2.63191462e-01\n",
      "   3.47780474e-02 -4.78619225e-02 -8.68032724e-02  5.96747547e-02\n",
      "  -3.73598821e-02  1.74119920e-01  3.22679400e-01 -1.24577299e-01\n",
      "  -1.89968631e-01  3.97558250e-02  7.06855878e-02  3.83722484e-01\n",
      "  -9.09027383e-02 -4.85458001e-02 -8.57239217e-02  2.58249521e-01\n",
      "  -1.51735529e-01 -1.97447821e-01 -1.53860405e-01 -2.50946701e-01\n",
      "  -1.30912393e-01  1.43464550e-01  4.58258003e-01  3.87457162e-01\n",
      "  -4.31904681e-02 -6.25605658e-02  1.13886289e-01  7.60852844e-02\n",
      "   4.43650484e-02  2.18973830e-01 -1.32915657e-02 -4.12339680e-02\n",
      "   2.09024891e-01  7.34533146e-02  1.38036599e-02  6.30945340e-02\n",
      "  -8.73743277e-03  2.15838894e-01  2.53296405e-01  1.69383839e-01\n",
      "   8.61660764e-02  4.76023048e-01  7.75843784e-02  1.32967740e-01\n",
      "  -4.35712859e-02 -2.24741146e-01  2.59078562e-01  2.84661144e-01\n",
      "   2.55511194e-01 -5.75403631e-01 -1.55237287e-01  6.05722517e-02\n",
      "  -5.42147551e-03 -1.22063972e-01  9.41169858e-02  1.10090144e-01\n",
      "  -4.73232158e-02  4.69800793e-02  8.62739310e-02  2.50373960e-01\n",
      "   1.57128274e-01 -2.85815239e-01 -1.45127296e-01  1.58642650e-01\n",
      "  -3.71983461e-02  9.24149156e-02  5.98339625e-02 -7.81818032e-02\n",
      "   2.23082930e-01  3.71768549e-02  2.87780464e-01 -4.41863649e-02\n",
      "  -7.31884539e-02  1.82503268e-01 -7.84546211e-02  6.80195764e-02\n",
      "  -4.27927896e-02 -2.93980166e-02  9.54295695e-02  9.69526172e-02\n",
      "   1.52885079e-01  2.24115536e-01  2.18227610e-01 -3.80517319e-02\n",
      "   1.64953500e-01 -6.00153692e-02  3.06697279e-01  3.97410542e-02\n",
      "  -2.23461732e-01  2.29876712e-01  1.94993392e-01 -1.41178042e-01\n",
      "   9.09268185e-02 -1.45297393e-01  1.96589872e-01  1.15928493e-01\n",
      "  -9.51420292e-02  1.08329803e-01  3.78877997e-01  1.73997641e-01\n",
      "  -2.60408092e-02 -8.66828486e-02 -1.21471211e-01  2.16903329e-01\n",
      "   2.74784192e-02  4.32353839e-02  1.33527637e-01  6.52552396e-02\n",
      "  -1.21640317e-01  6.77573904e-02 -1.88545570e-01  1.23458922e-01\n",
      "   4.43261787e-02 -1.13484286e-01  1.88929215e-01  4.95948941e-02\n",
      "  -1.44709507e-02  1.08404204e-01  9.85967740e-03 -5.02905607e-01\n",
      "  -1.83971062e-01  2.27527004e-02 -3.97817604e-02  2.89321631e-01\n",
      "   4.59170341e-02  1.31807968e-01 -1.48283899e-01 -1.72578454e-01\n",
      "  -1.95871279e-01  5.97051322e-01 -1.36056378e-01  4.08164710e-01\n",
      "   8.54780450e-02 -1.69421524e-01  2.36591473e-01 -1.26781845e-02\n",
      "   4.93870005e-02 -9.23413411e-02  6.16590418e-02  4.61756587e-02\n",
      "   2.91041397e-02  2.88834721e-02 -1.40557036e-01 -1.47268787e-01\n",
      "   9.16168615e-02  4.35121059e-02  1.29405940e-02  2.08948776e-01\n",
      "  -3.44074890e-02  1.49389878e-01  7.16387108e-02  9.11788344e-02\n",
      "   7.95043558e-02  3.38613987e-04  6.98525608e-02  3.57150398e-02\n",
      "   1.87517196e-01  8.53258148e-02  6.20257519e-02 -1.49584875e-01\n",
      "   1.64876580e-01  7.48123527e-02  2.21847892e-01 -2.15379149e-03\n",
      "   6.05369732e-02 -1.72641397e-01  2.35459935e-02 -1.33583024e-01\n",
      "   9.97628644e-02  2.10757390e-01  1.23029105e-01  2.92430278e-02\n",
      "  -8.72043818e-02  1.15893744e-01 -1.77525192e-01 -5.15297316e-02\n",
      "   2.34329961e-02  5.95312268e-02 -5.05505651e-02 -7.57628605e-02\n",
      "  -1.50948288e-02 -6.50259629e-02  1.71756297e-01  7.59576783e-02\n",
      "   9.03325379e-02  6.99525848e-02 -3.92059311e-02  3.38778347e-02\n",
      "   1.35564461e-01 -4.51193340e-02  2.18699664e-01  8.33654553e-02\n",
      "   7.78432563e-02 -2.84043580e-01 -9.80157554e-02 -1.34703163e-02\n",
      "   9.66386870e-02  1.19859710e-01  1.12939969e-01  1.09372951e-01\n",
      "  -3.00475713e-02 -4.90506701e-02 -9.48079228e-02  1.80034518e-01\n",
      "   1.18391290e-01 -1.29865319e-01  1.56080164e-02 -1.40603393e-01\n",
      "  -9.80863199e-02 -6.95132762e-02  2.26353452e-01 -5.72631583e-02\n",
      "  -7.61094466e-02  2.82674193e-01  3.40961218e-01  1.16590015e-03\n",
      "  -1.40924498e-01 -1.55996084e-01  1.41603112e-01  1.11120030e-01\n",
      "   5.89142554e-03  3.59343067e-02 -8.43293145e-02 -2.67491601e-02\n",
      "   9.97535046e-03 -1.87813237e-01  1.38269681e-02  3.97511572e-02\n",
      "  -1.59816608e-01  3.46937105e-02  1.01127714e-01 -4.58540097e-02\n",
      "   7.16504902e-02  2.50980586e-01  2.15874135e-01  5.43693081e-02\n",
      "  -5.37078977e-01  3.56623195e-02  4.63264957e-02  1.67320028e-01\n",
      "  -2.42836863e-01  5.84615171e-02 -1.91866606e-02  5.05134352e-02\n",
      "   3.62034291e-02  2.18021005e-01 -2.54690230e-01 -1.82305992e-01\n",
      "   1.63511664e-01  2.59213801e-03  5.39311394e-02  1.44019142e-01\n",
      "  -1.71128035e-01  4.17579003e-02  3.16267461e-01 -3.84369999e-01\n",
      "  -1.18528493e-01  2.10424140e-01  2.09626630e-01  1.62797436e-01\n",
      "  -7.66019598e-02  1.27077922e-01  2.65346587e-01  4.84645180e-02\n",
      "  -6.15573712e-02  5.42223871e-01 -8.15381855e-03 -8.16164613e-02\n",
      "   1.48466676e-01  2.21689735e-02 -7.54847229e-02 -1.32528692e-01\n",
      "   3.23148966e-01 -1.17322560e-02  2.36279175e-01  1.73052788e-01\n",
      "  -3.26160192e-01  1.84382647e-02 -5.87925203e-02  8.28896016e-02\n",
      "   5.66649027e-02 -4.55218107e-02  3.56305530e-03  3.19795310e-01\n",
      "   5.01917675e-02 -8.25394988e-02  1.64476812e-01 -7.96249062e-02\n",
      "  -8.84935260e-02 -4.32460271e-02  9.85808522e-02 -1.34555489e-01\n",
      "   1.36101365e-01  3.14139605e-01 -3.42993885e-02 -2.15973239e-02\n",
      "   5.81679754e-02 -1.75803855e-01 -3.19631994e-02 -7.96163529e-02\n",
      "   1.95770502e-01  9.90448818e-02 -2.75885761e-01  1.66116059e-02\n",
      "  -2.03090329e-02 -2.66571939e-01 -1.99750483e-01 -3.69561128e-02\n",
      "  -1.01994753e-01 -9.61633027e-02 -1.74787834e-01 -4.03340161e-02\n",
      "   1.00929938e-01 -5.64880669e-02  1.95620298e-01  2.00802281e-01\n",
      "  -1.74707234e-01 -1.98726147e-01  2.26866469e-01 -1.96385309e-01\n",
      "  -5.64653948e-02 -8.74786526e-02  1.13569491e-01 -7.44678676e-02\n",
      "  -1.70087054e-01  9.99147743e-02 -7.29666412e-01 -1.00904524e-01\n",
      "   2.17780337e-01  9.46541503e-02  9.80846956e-02  2.59453893e-01\n",
      "   3.07676345e-01  4.36827838e-02  1.71388939e-01 -4.18451242e-02\n",
      "  -3.07731181e-01  6.34982362e-02  4.91215289e-02  1.80968970e-01\n",
      "  -1.01417257e-02 -9.28458571e-02 -3.59865930e-03 -3.22614551e-01\n",
      "  -5.63396364e-02 -1.01323472e-02 -6.62582666e-02 -6.13038838e-02\n",
      "   2.14832738e-01  1.54740727e-02 -4.99154590e-02  1.62096769e-01\n",
      "  -9.57493708e-02 -2.34624241e-02  1.72971219e-01  2.60238796e-01\n",
      "  -9.03490782e-02  2.24526832e-03 -2.64209621e-02  7.81463087e-02\n",
      "  -1.99086815e-02 -5.18255420e-02 -1.61720946e-01 -1.15430415e-01\n",
      "   1.08115301e-01 -9.18288827e-02  9.24031585e-02  3.91285419e-02\n",
      "   9.20112431e-03  6.50934279e-02  2.17713803e-01  1.81726396e-01\n",
      "   1.26366839e-01 -1.69215322e-01 -1.56308457e-01 -1.23164698e-01\n",
      "  -9.05183610e-03  1.64076045e-01  4.00322974e-02  7.42173046e-02\n",
      "  -1.66576430e-01  1.66060075e-01 -2.81348154e-02 -1.78521350e-01\n",
      "   7.84221068e-02 -2.61572693e-02 -2.26357043e-01  9.73430723e-02\n",
      "   1.49165064e-01  6.79195449e-02  8.69679525e-02 -9.50850248e-02\n",
      "   6.87530711e-02 -4.78011295e-02  1.18571252e-01  1.68488964e-01\n",
      "  -2.29370236e-01  3.59177515e-02 -1.72384605e-01  2.59682924e-01\n",
      "  -4.08287905e-02  1.88926592e-01  1.01210512e-01 -2.75002182e-01\n",
      "  -2.61580497e-01 -2.34833248e-02  3.63100648e-01  9.49723274e-02\n",
      "  -2.16088574e-02 -3.95770043e-01  4.07213345e-02 -2.12195098e-01\n",
      "   3.77412111e-01  1.82478070e-01 -8.34721103e-02  4.82198857e-02\n",
      "   3.38544790e-03 -3.50305401e-02  6.45406619e-02 -6.16057217e-02\n",
      "   3.40101391e-01 -1.28880084e-01  1.13730989e-01  1.28066018e-01\n",
      "  -2.35657915e-01 -1.50397439e-02  2.47041266e-02 -5.73388068e-03\n",
      "   1.94431350e-01  4.03675050e-01 -6.56848997e-02  2.41094921e-03\n",
      "   2.39149272e-03 -1.39925465e-01  3.23176146e-01  2.15106145e-01\n",
      "   1.35494545e-02  1.47208218e-02 -5.70029893e-04  1.39654800e-01\n",
      "  -7.01769395e-03 -1.20683163e-01  1.45641938e-02  7.22094700e-02\n",
      "  -2.31987342e-01  3.04375827e-01  9.29476693e-02  1.37673104e-02\n",
      "   7.40403030e-03  1.45911649e-01  1.22225396e-01  4.89979498e-02\n",
      "   2.11214319e-01  3.50847960e-01  7.65431225e-02  1.63696393e-01\n",
      "  -1.40175968e-01  7.05281496e-02 -2.97984034e-02  2.33605534e-01\n",
      "   2.02378333e-01 -1.37547418e-01 -1.18853778e-01  2.76572585e-01\n",
      "   3.25339079e-01 -6.73528686e-02 -1.33094996e-01  9.55398008e-02\n",
      "   4.80442010e-02 -7.00126514e-02  1.81678981e-01 -1.77652650e-02\n",
      "  -3.18634287e-02  1.37828708e-01  1.38388500e-01 -9.30774659e-02\n",
      "   6.95080608e-02  5.81244053e-03  4.62350138e-02  2.86330618e-02\n",
      "   1.62707403e-01 -3.79507765e-02 -1.26258403e-01  3.28953743e-01\n",
      "  -2.53329307e-01  1.46695569e-01  1.65058542e-02  1.28091378e-02\n",
      "   1.82075143e-01  7.70097673e-02 -2.91323406e-03  4.14144658e-02\n",
      "   8.19233730e-02  2.38262996e-01 -6.06599078e-02 -7.64823183e-02\n",
      "  -1.75708264e-01 -6.72638863e-02  1.43518522e-02  1.60071313e-01\n",
      "  -4.28199470e-02 -1.32933035e-01 -2.88245916e-01  4.98614088e-02\n",
      "   3.77037376e-02  9.54242423e-02  1.14005627e-02 -6.65163994e-02\n",
      "   2.14900374e-01 -1.98883247e-02  5.06534949e-02 -5.28255962e-02\n",
      "  -1.02582097e-01 -5.84962703e-02 -1.43147051e-01 -1.83292419e-01\n",
      "   1.66815877e-01  1.02723375e-01 -1.11832446e-03  2.36285880e-01\n",
      "   1.79854348e-01  2.20444977e-01  4.28161696e-02 -1.42162228e-02\n",
      "   1.64556637e-01 -7.74447620e-02 -6.49880692e-02  1.14255965e-01\n",
      "   4.33401205e-02  5.82373925e-02  4.42435034e-02 -1.11620538e-01\n",
      "  -1.51810199e-01 -2.66781636e-02  3.01159799e-01  1.03728630e-01\n",
      "  -1.22543544e-01  7.91944787e-02 -1.58681393e-01  3.78706004e-03\n",
      "   6.27723560e-02  1.69802368e-01 -3.08248010e-02 -1.22234426e-01\n",
      "   2.21545342e-02  2.60667200e-03  2.27023259e-01 -2.80628592e-01\n",
      "  -8.63476023e-02  8.54571443e-03  4.37113717e-02 -3.55290179e-03\n",
      "  -1.36290714e-01 -1.66159883e-01 -3.03917844e-02  1.93643868e-01\n",
      "   8.53444412e-02  2.09411070e-01 -7.96026140e-02  4.67876166e-01\n",
      "   1.54946685e-01  5.74931130e-02 -6.02937043e-02  1.05602898e-01\n",
      "  -1.16337545e-01  5.54352477e-02  2.10140824e-01  4.18919325e-02\n",
      "  -1.80079564e-01 -1.28517419e-01 -1.17940465e-02 -1.07268430e-01\n",
      "   1.78739354e-01  8.57778564e-02 -1.58411469e-02  1.50684088e-01\n",
      "  -1.40790567e-01  6.16288669e-02  1.57790661e+00  3.40998381e-01\n",
      "  -6.97527826e-02 -1.15351737e-01  2.83035278e-01 -6.87587857e-02\n",
      "   2.44932055e-01  3.40404183e-01  2.86896318e-01 -2.30671391e-02\n",
      "   1.41145410e-02  2.17104882e-01 -1.78772211e-03  4.05214541e-02\n",
      "   1.58962190e-01  8.67765397e-02 -3.11246272e-02 -9.66046304e-02\n",
      "   1.53848035e-02  1.05896086e-01 -1.01598418e+00  1.67467400e-01\n",
      "   2.03307018e-01 -1.82635367e-01  6.75504282e-02 -2.52789147e-02\n",
      "   8.75082687e-02 -3.92317995e-02 -4.67333570e-02  1.70417875e-01\n",
      "  -9.59041342e-02  2.10180253e-01 -1.52691558e-01 -5.13206087e-02\n",
      "   8.17196518e-02  1.99667498e-01  7.70609602e-02  5.02649928e-03\n",
      "   1.12632252e-01 -3.79174240e-02  2.18116343e-01  8.48490670e-02\n",
      "  -6.94253668e-02  5.24055809e-02  2.26701885e-01 -8.26503262e-02\n",
      "   4.26649675e-02  5.11514693e-02 -1.43079013e-01  1.40394885e-02\n",
      "  -7.03440085e-02 -9.06868950e-02  3.85539867e-02 -1.99898288e-01\n",
      "  -8.06725025e-03  2.43079662e-01  2.18756676e-01 -2.07281262e-02\n",
      "   6.83766678e-02  1.67080741e-02  5.06579243e-02  1.79084420e-01\n",
      "  -4.11544479e-02  1.02173872e-01  6.93582296e-02  5.38636334e-02\n",
      "  -3.12242657e-02 -1.59110963e-01  2.47861192e-01  1.03548475e-01\n",
      "  -2.71141291e-01 -2.59369165e-02  1.79444820e-01  1.89448282e-01\n",
      "   1.90503970e-02 -3.10994089e-01 -1.56424031e-01  1.37945458e-01\n",
      "   2.77277380e-01  1.09663427e-01 -1.46883488e-01  1.11707732e-01\n",
      "   1.27584770e-01  1.49406075e-01  3.17305923e-01 -7.35774338e-02\n",
      "  -5.64298779e-02 -1.47254691e-01 -1.28432631e-01  1.63724363e-01\n",
      "  -8.77960995e-02 -2.04518884e-02  1.34447068e-01  3.32784295e-01\n",
      "   1.66538239e-01 -5.82598969e-02  2.09066972e-01  6.06320389e-02\n",
      "  -2.01470815e-02  1.58559307e-01 -1.05958059e-01 -9.45542231e-02\n",
      "   9.39339474e-02  1.50889143e-01  4.44610678e-02  3.93874645e-02\n",
      "   1.28319748e-02 -7.18293199e-03 -2.14794457e-01  7.69759715e-02\n",
      "   1.71366438e-01  1.95315387e-02  1.35838494e-01 -1.05002336e-02\n",
      "   3.14511359e-02 -1.70947224e-01 -6.00422136e-02  6.96721524e-02\n",
      "  -2.40798354e-01  1.50052741e-01  1.26342505e-01 -1.71424627e-01\n",
      "   6.68487176e-02 -1.58749521e-02  2.50421405e-01 -2.09382489e-01\n",
      "   2.25650609e-01  7.67840445e-02 -1.82520092e-01 -1.79630797e-02\n",
      "  -1.52248636e-01  2.09117662e-02  1.78874612e-01 -1.91832289e-01\n",
      "   1.77528605e-01 -1.74634203e-01  5.89476489e-02  7.96484277e-02\n",
      "   1.13564968e-01  3.59796405e-01  1.79218233e-01  8.98305550e-02\n",
      "   8.89919475e-02  1.64654136e-01 -9.43643004e-02  8.99905562e-02\n",
      "  -3.87702845e-02  2.32861459e-01 -1.26223555e-02 -1.03070162e-01\n",
      "  -8.49503458e-01  2.90932804e-02  4.59542453e-01  1.44538388e-01\n",
      "  -1.72165349e-01  2.37301737e-01  1.89848259e-01 -6.44430444e-02\n",
      "  -4.50761914e-02  9.70817059e-02  1.02881618e-01  4.29303765e-01\n",
      "   1.46095321e-01 -2.82047875e-02  7.91198835e-02 -2.89882749e-01\n",
      "   1.04019418e-02  2.80952722e-01 -1.72956184e-01  6.65077567e-03\n",
      "   1.87583253e-01  6.41855747e-02 -7.51585960e-02 -1.13746464e-01\n",
      "  -1.18071996e-02  2.65611019e-02  3.03265601e-02  1.64697632e-01]]\n"
     ]
    }
   ],
   "source": [
    "fifth_element = df['question_vector'].iloc[324]\n",
    "print(df['question'].iloc[324])\n",
    "print(df['processed_question'].iloc[324])\n",
    "print(df['processed_question'].iloc[313])\n",
    "\n",
    "print(fifth_element.shape)\n",
    "print(fifth_element)\n"
   ]
  },
  {
   "cell_type": "code",
   "execution_count": 74,
   "metadata": {},
   "outputs": [
    {
     "name": "stdout",
     "output_type": "stream",
     "text": [
      "điểm_chuẩn ngành an_toàn thông_tin theo phương_thức thi thpt 2023 miền bắc\n",
      "(1, 768)\n",
      "[[ 2.47866198e-01  8.75657946e-02 -1.72575355e-01 -1.28289014e-01\n",
      "  -1.36528999e-01  2.49251686e-02  2.10783035e-02  1.29400179e-01\n",
      "  -1.74124524e-01  8.21061879e-02 -1.68095723e-01  1.89115480e-01\n",
      "   4.06486169e-02 -1.03111692e-01 -5.82254268e-02  4.59612384e-02\n",
      "  -1.04514919e-01  2.47891799e-01  2.09378958e-01 -1.13384359e-01\n",
      "  -2.05431148e-01  1.34707972e-01  8.07819441e-02  4.12992805e-01\n",
      "  -9.81463119e-02 -1.18047111e-01 -4.29528728e-02  2.61191756e-01\n",
      "  -1.53154209e-01 -1.34863913e-01 -1.52581677e-01 -2.25703314e-01\n",
      "  -1.42768115e-01  1.45331517e-01  4.31122392e-01  4.21756595e-01\n",
      "  -6.69411942e-02 -5.49872033e-02  1.53473541e-01  3.05534843e-02\n",
      "  -1.26891593e-02  3.01260233e-01  6.55282801e-03 -1.20831057e-01\n",
      "   2.02900425e-01  1.56172484e-01  1.58965588e-02  8.28259960e-02\n",
      "   4.37981971e-02  2.17373222e-01  2.27199525e-01  2.87639171e-01\n",
      "   4.94743623e-02  3.82300884e-01  1.01569042e-01  1.54131189e-01\n",
      "   9.12631769e-03 -2.56906211e-01  2.13810846e-01  2.98078030e-01\n",
      "   2.61288345e-01 -5.22927940e-01 -1.02374338e-01  9.73144770e-02\n",
      "  -6.15879335e-02 -6.78549856e-02 -4.44773585e-03  1.42562523e-01\n",
      "  -6.07902817e-02  1.18230037e-01  5.27853630e-02  2.12719470e-01\n",
      "   1.81850478e-01 -2.75635868e-01 -1.26304522e-01  2.17443332e-01\n",
      "  -3.97955701e-02  6.36313483e-02  5.03113195e-02 -1.38384610e-01\n",
      "   1.30724549e-01  4.27182503e-02  2.68187344e-01 -2.03851573e-02\n",
      "  -1.73478439e-01  1.48468360e-01 -9.13468972e-02  1.02106519e-01\n",
      "  -9.21138898e-02  2.90383492e-02  7.11073503e-02  6.40174001e-02\n",
      "   1.21336035e-01  2.02071577e-01  2.28538856e-01 -3.70130353e-02\n",
      "   1.43460050e-01 -8.39320049e-02  3.09577316e-01 -5.67047810e-03\n",
      "  -2.16331124e-01  1.47764489e-01  1.89123422e-01 -1.45418137e-01\n",
      "   1.27255365e-01 -1.10410437e-01  2.20713690e-01  9.69328731e-02\n",
      "  -7.28631392e-02  1.78458139e-01  3.64943564e-01  1.98011845e-01\n",
      "   1.88320444e-03 -1.27552778e-01 -5.27252369e-02  1.81664854e-01\n",
      "  -2.56943866e-03  5.29890694e-02  2.19795018e-01  1.86101608e-02\n",
      "  -1.70175433e-01  1.69114351e-01 -2.13300899e-01  5.66818528e-02\n",
      "  -7.12203011e-02 -8.49527940e-02  1.58260718e-01  6.83353692e-02\n",
      "   6.50956249e-03  1.16345525e-01 -1.08353838e-01 -4.51403767e-01\n",
      "  -4.39154245e-02  6.42353892e-02 -3.51842977e-02  3.09403807e-01\n",
      "   8.13323408e-02  6.40781522e-02 -1.33825034e-01 -2.40495458e-01\n",
      "  -1.56710356e-01  5.65294921e-01 -8.76555517e-02  4.02114660e-01\n",
      "   2.27154121e-01 -1.70599580e-01  1.71637073e-01 -3.37603688e-02\n",
      "  -9.63767699e-04 -3.61468606e-02  2.39532981e-02  4.06907275e-02\n",
      "   8.68479982e-02  1.09425835e-01 -7.62812942e-02 -2.54242599e-01\n",
      "   1.98104288e-02  7.22638965e-02 -5.78943305e-02  2.55880445e-01\n",
      "   1.56867709e-02  1.37227222e-01  1.73212573e-01  9.27918777e-02\n",
      "   5.95776644e-03 -2.17822306e-02  1.05039515e-01  4.08314280e-02\n",
      "   1.45651013e-01  1.59819871e-01  9.71625969e-02 -7.00146109e-02\n",
      "   1.97229728e-01  5.32481149e-02  2.75168419e-01 -9.71355848e-03\n",
      "  -2.84978542e-02 -2.12977886e-01 -7.28860265e-03 -2.29389861e-01\n",
      "   1.07423149e-01  1.79270133e-01  1.35769635e-01  1.39919370e-02\n",
      "  -5.51921390e-02  5.93590029e-02 -2.79261857e-01 -1.59362443e-02\n",
      "   4.53041792e-02  4.78249229e-02 -1.82689242e-02  7.73212165e-02\n",
      "  -9.18692201e-02 -9.20385569e-02  1.76642746e-01  1.29294902e-01\n",
      "   8.37009177e-02  1.50539801e-01 -4.47430350e-02  9.29605812e-02\n",
      "   2.05182567e-01 -1.21004954e-01  2.89693594e-01  1.83594339e-02\n",
      "   7.07672238e-02 -3.15427512e-01 -1.77692845e-01 -8.02025571e-02\n",
      "   4.30565886e-02  7.83186480e-02  1.42640606e-01  4.81148474e-02\n",
      "  -6.48332089e-02 -9.77259688e-03 -9.68810692e-02  1.53473899e-01\n",
      "   1.29956126e-01 -2.05904737e-01 -1.92927606e-02 -1.40207186e-01\n",
      "  -7.47268125e-02 -1.06726244e-01  1.60015151e-01  3.04940809e-02\n",
      "  -1.45806586e-02  2.93707520e-01  3.53793681e-01 -3.19719240e-02\n",
      "  -1.09079652e-01 -1.11328803e-01  5.97512797e-02  9.17762443e-02\n",
      "   2.80796681e-02 -1.26825953e-02 -9.67707112e-02 -1.13694273e-01\n",
      "   8.46124347e-03 -1.55797049e-01  2.37989388e-02  4.25462127e-02\n",
      "  -1.35591373e-01  1.08557474e-02  8.30357075e-02 -7.72191286e-02\n",
      "   6.13569058e-02  2.46729970e-01  1.88736275e-01  6.14544116e-02\n",
      "  -4.81779158e-01  9.40668732e-02  8.39457959e-02  2.35043079e-01\n",
      "  -2.16590270e-01  6.03012834e-03 -1.10573426e-03  1.12549877e-02\n",
      "   1.22723682e-02  2.43406907e-01 -2.66206205e-01 -2.00234607e-01\n",
      "   8.66406336e-02  6.33143932e-02  8.85311365e-02  1.42058745e-01\n",
      "  -1.37052000e-01  4.14972529e-02  2.86731094e-01 -3.35215420e-01\n",
      "  -9.10568014e-02  2.07921058e-01  2.94811964e-01  2.08728865e-01\n",
      "  -1.11787990e-01 -2.03387607e-02  2.67372072e-01  7.01555237e-02\n",
      "  -1.10473586e-02  6.31359518e-01 -3.66880335e-02 -2.21565198e-02\n",
      "   1.49896219e-01  5.79704009e-02 -7.23329186e-02 -1.31290570e-01\n",
      "   3.08297366e-01 -1.54615685e-01  2.15538457e-01  7.38963261e-02\n",
      "  -3.08382243e-01  3.92500311e-03 -1.89659558e-02  3.00612319e-02\n",
      "   8.90161172e-02 -2.74555236e-02  1.69023238e-02  3.18514317e-01\n",
      "   1.40977234e-01  2.77486332e-02  1.55580863e-01 -6.06857315e-02\n",
      "  -8.34525228e-02 -1.04216330e-01  7.20905736e-02 -1.41503289e-01\n",
      "   4.45530526e-02  3.44220012e-01 -3.65522094e-02  4.44021486e-02\n",
      "   1.54400319e-02 -1.33660913e-01  1.87139772e-02 -7.99798891e-02\n",
      "   1.64494187e-01  1.32409349e-01 -2.09638253e-01 -5.17163239e-02\n",
      "   2.07703672e-02 -2.65735239e-01 -2.44222894e-01 -5.95047437e-02\n",
      "  -1.51510239e-01 -1.11315712e-01 -8.44695121e-02  1.02996854e-02\n",
      "   1.68514282e-01 -2.81164795e-02  1.53924227e-01  1.77302793e-01\n",
      "  -1.43552914e-01 -1.26081198e-01  2.12105617e-01 -1.91594943e-01\n",
      "  -4.11679037e-02 -1.28700897e-01  1.05543330e-01 -6.87066466e-02\n",
      "  -1.77468672e-01  6.10748455e-02 -6.57092214e-01 -1.56631857e-01\n",
      "   2.16632888e-01  3.02075706e-02  1.38031453e-01  3.18464309e-01\n",
      "   4.20628458e-01  8.04734826e-02  2.11077303e-01  1.24626392e-02\n",
      "  -3.75240117e-01  2.71351673e-02  8.39292780e-02  2.17363104e-01\n",
      "   2.09431555e-02 -1.78300053e-01 -2.65146550e-02 -2.15975136e-01\n",
      "  -6.63210824e-02 -4.84154038e-02 -3.40594687e-02 -7.23134801e-02\n",
      "   1.67705521e-01  6.14486411e-02 -1.24425232e-01  1.38016433e-01\n",
      "  -5.54647967e-02 -6.34938851e-02  1.83749959e-01  2.83674687e-01\n",
      "  -4.79467586e-02  2.56118979e-02 -1.27103617e-02  9.28513557e-02\n",
      "  -4.22673337e-02 -7.30879158e-02 -2.13941738e-01 -8.31554532e-02\n",
      "   1.51282087e-01 -1.29713193e-01  1.62183240e-01  1.07969590e-01\n",
      "   6.23424165e-02  8.34912062e-02  2.78641790e-01  2.38817453e-01\n",
      "   7.77432472e-02 -1.40985608e-01 -1.77647799e-01 -1.46233588e-01\n",
      "  -2.92418208e-02  1.56431839e-01  1.82027221e-02  6.64298609e-02\n",
      "  -1.05425939e-01  1.65938452e-01 -9.26391855e-02 -1.39901921e-01\n",
      "   6.35361597e-02 -5.03305271e-02 -2.16635630e-01  1.19794533e-01\n",
      "   1.44405916e-01  4.29239310e-02  1.03511877e-01  8.24944526e-02\n",
      "   3.29492465e-02 -2.80454047e-02  1.12628929e-01  1.91095993e-01\n",
      "  -1.53578296e-01 -7.12202163e-03 -2.13215813e-01  3.12985986e-01\n",
      "  -4.65050079e-02  1.99375391e-01  5.49307466e-02 -2.89508760e-01\n",
      "  -2.12632567e-01 -8.77613574e-03  2.74156243e-01  6.45329803e-02\n",
      "  -7.02804001e-03 -3.31278861e-01 -2.01671035e-03 -2.51161635e-01\n",
      "   4.07927364e-01  2.22321406e-01 -1.46095473e-02  7.68537149e-02\n",
      "   8.89440775e-02 -5.99615239e-02  2.55117156e-02 -6.21123351e-02\n",
      "   4.01690483e-01 -1.97129533e-01  2.83976831e-02  2.15462461e-01\n",
      "  -2.27981135e-01  3.54870618e-03  1.52945025e-02 -7.27919163e-03\n",
      "   2.16581687e-01  2.92891175e-01  4.14834503e-04 -1.78954960e-03\n",
      "   2.17073467e-02 -1.50060415e-01  3.27547371e-01  2.24993110e-01\n",
      "  -6.44065766e-03  5.71299382e-02  1.85064096e-02  1.11019000e-01\n",
      "   6.18503895e-03 -5.36945798e-02  9.99385398e-03  1.42091230e-01\n",
      "  -2.45544955e-01  2.69659489e-01 -3.70761156e-02  1.98507849e-02\n",
      "  -5.47790639e-02  1.23887800e-01  1.15951881e-01  3.67341228e-02\n",
      "   2.44817466e-01  2.80252874e-01  1.32842585e-01  1.83748275e-01\n",
      "  -1.49630800e-01  4.86942828e-02 -7.37011209e-02  1.94916815e-01\n",
      "   1.59849152e-01 -1.84571847e-01 -3.19021530e-02  3.17358553e-01\n",
      "   3.02945465e-01 -6.52694851e-02 -1.47943452e-01  5.60838543e-02\n",
      "   2.63371654e-02 -4.24044468e-02  2.39003047e-01 -5.65652130e-03\n",
      "   4.02444005e-02  6.26726002e-02  1.18647233e-01 -1.50233194e-01\n",
      "  -4.35305294e-03 -1.88045558e-02  8.21637288e-02  8.86798128e-02\n",
      "   2.03958765e-01 -5.26863076e-02 -8.32642466e-02  2.56426185e-01\n",
      "  -2.56282955e-01  8.81491303e-02 -1.51027311e-02  1.07559876e-03\n",
      "   9.92840976e-02  1.02876760e-01  2.24282709e-03  4.93547656e-02\n",
      "   9.82288495e-02  1.69784978e-01 -2.63378378e-02 -8.94651562e-02\n",
      "  -1.07978053e-01 -1.37863038e-02 -6.69000996e-03  1.75598189e-01\n",
      "  -3.54976095e-02 -1.30034253e-01 -1.93476349e-01  2.22972929e-02\n",
      "   6.43861443e-02  9.53858420e-02  9.43670347e-02 -1.95334554e-02\n",
      "   2.41912454e-01  2.30187178e-02  9.08183232e-02 -1.32763401e-01\n",
      "  -2.89044082e-01 -2.08898424e-03 -1.40824333e-01 -1.89768568e-01\n",
      "   1.47531644e-01  1.20886840e-01 -3.95960584e-02  2.22880155e-01\n",
      "   1.18591294e-01  1.08505681e-01  3.51078026e-02 -2.20233891e-02\n",
      "   1.32432804e-01 -6.10337369e-02 -8.53097066e-02  1.08871177e-01\n",
      "   1.60719138e-02  4.42844965e-02  4.78339717e-02 -1.49989605e-01\n",
      "  -1.03243932e-01 -5.99196181e-02  3.99992228e-01  1.56178877e-01\n",
      "  -9.70888063e-02  3.73368785e-02 -1.48589835e-01 -2.57392041e-02\n",
      "   2.89544966e-02  1.68502286e-01 -3.49482670e-02 -1.91340134e-01\n",
      "  -8.20500776e-02 -4.22669239e-02  1.81760266e-01 -2.06573114e-01\n",
      "  -8.77298787e-02  2.93880254e-02 -3.13162394e-02 -1.20310830e-02\n",
      "  -1.46450400e-01 -1.18538693e-01  4.18223739e-02  2.16259509e-01\n",
      "   4.77615260e-02  1.86116800e-01 -8.72570947e-02  4.87434685e-01\n",
      "   9.38167199e-02  9.95909497e-02 -4.75407913e-02  1.13171570e-01\n",
      "  -1.62785560e-01  2.69689988e-02  1.97383299e-01  6.09908104e-02\n",
      "  -1.53624684e-01 -1.44447014e-01  8.99784558e-04 -4.26211767e-02\n",
      "   1.25085726e-01  2.16643307e-02  3.67471837e-02  2.43313268e-01\n",
      "  -1.94991156e-01  6.05672365e-03  1.44048417e+00  3.82000446e-01\n",
      "  -8.73812288e-02 -1.21745482e-01  3.99620235e-01 -6.71288967e-02\n",
      "   2.54829735e-01  3.02015245e-01  2.68518060e-01  1.01285120e-02\n",
      "  -3.88124585e-03  1.24534741e-01  3.08519863e-02  1.13207974e-01\n",
      "   1.88868880e-01  9.93705541e-02 -6.91020712e-02 -8.24953839e-02\n",
      "   5.29133007e-02  1.46087915e-01 -9.85365689e-01  1.54108807e-01\n",
      "   2.40063295e-01 -1.08440861e-01  1.00429259e-01 -5.92305586e-02\n",
      "   1.15240291e-01 -4.82617877e-02 -8.23356211e-04  1.30588949e-01\n",
      "  -3.82481478e-02  2.86946803e-01 -1.90746814e-01 -1.49402106e-02\n",
      "   1.29158765e-01  2.61258692e-01  1.99537590e-01 -2.59959102e-02\n",
      "   1.05841279e-01 -8.92510265e-02  2.15037346e-01  1.07278032e-02\n",
      "  -5.00597283e-02  3.20147760e-02  2.59160668e-01 -1.63506001e-01\n",
      "  -1.13308445e-01  7.83359259e-02 -2.07458898e-01 -6.42999336e-02\n",
      "  -1.87591035e-02 -6.72966316e-02  4.12831418e-02 -1.48352697e-01\n",
      "   3.63138062e-03  2.74024546e-01  1.47726268e-01 -1.19395694e-02\n",
      "   5.53573370e-02  1.74856614e-04 -1.66972689e-02  2.45461211e-01\n",
      "   1.72638744e-02  1.08382441e-01 -3.00374627e-02  1.02452263e-02\n",
      "  -1.02390321e-02 -1.15357324e-01  3.03972542e-01  4.13649194e-02\n",
      "  -2.80813932e-01 -3.80598009e-02  2.17511415e-01  1.77877218e-01\n",
      "  -8.32499098e-03 -2.12352276e-01 -1.18586794e-01  1.95803791e-01\n",
      "   2.24398717e-01  4.52846289e-02 -8.88015628e-02  1.47875428e-01\n",
      "   1.37506053e-01  1.51002362e-01  2.30111644e-01 -6.48641065e-02\n",
      "  -1.17195055e-01 -1.15540370e-01 -7.95630366e-02  1.85394138e-01\n",
      "  -1.78651825e-01 -1.45858331e-02  1.52052164e-01  2.64054447e-01\n",
      "   1.98633909e-01 -1.37352377e-01  1.61470845e-01  1.12193767e-02\n",
      "  -1.91784762e-02  2.06129164e-01 -1.13187142e-01 -5.55875041e-02\n",
      "   1.23157069e-01  9.14728791e-02 -1.41950389e-02  1.07565157e-01\n",
      "   2.91581452e-03 -4.45537344e-02 -2.20517606e-01  8.84205252e-02\n",
      "   1.31014466e-01  9.29512177e-03  2.49402553e-01  3.47873047e-02\n",
      "   4.05118056e-02 -1.68045714e-01 -7.92137384e-02  1.34870768e-01\n",
      "  -2.63145298e-01  1.56593725e-01  1.94932029e-01 -1.32314354e-01\n",
      "   4.41856906e-02 -9.81103349e-03  2.62678444e-01 -2.63776392e-01\n",
      "   1.74879998e-01  4.41312008e-02 -2.23287806e-01 -1.53936073e-02\n",
      "  -1.74071461e-01 -3.52602527e-02  2.70163625e-01 -1.39534310e-01\n",
      "   2.32906595e-01 -9.77207646e-02 -3.19049321e-02 -1.07379714e-02\n",
      "   6.85387626e-02  2.43784055e-01  2.05633402e-01  6.24648556e-02\n",
      "   9.04743224e-02  1.78502351e-01 -8.95329788e-02  1.35178968e-01\n",
      "  -9.17798430e-02  2.42964312e-01 -4.34037521e-02 -1.33300424e-01\n",
      "  -6.90166116e-01  3.89390960e-02  4.03527081e-01  9.29841176e-02\n",
      "  -2.03394651e-01  2.74506688e-01  2.13196710e-01 -1.16315141e-01\n",
      "  -5.52829243e-02  8.69482830e-02  1.19095102e-01  4.18811560e-01\n",
      "   8.06615353e-02 -2.32950486e-02  1.05217628e-01 -2.54712552e-01\n",
      "  -6.88171238e-02  3.24367613e-01 -2.46898517e-01  2.55325586e-02\n",
      "   2.14832500e-01  1.73231773e-02 -7.86153078e-02 -8.70064944e-02\n",
      "  -5.37347272e-02  7.87809417e-02  8.07553455e-02  1.91237524e-01]]\n"
     ]
    }
   ],
   "source": [
    "query = \"Điểm chuẩn ngành an toàn thông tin theo phương thức thi thpt 2023 miền bắc?\"\n",
    "processed_query = processing_text_for_query(query)\n",
    "print(processed_query)\n",
    "query_vector = encode_question(processed_query)\n",
    "print(query_vector.shape)\n",
    "print(query_vector)\n"
   ]
  },
  {
   "cell_type": "code",
   "execution_count": 84,
   "metadata": {},
   "outputs": [
    {
     "name": "stdout",
     "output_type": "stream",
     "text": [
      "điểm_chuẩn ngành công_nghệ thông_tin năm 2023 công_nghệ thông_tin năm 2023 công_nghệ thông_tin năm 2023 công_nghệ thông_tin năm 2023 miền nam bắc trung theo thpt tại miền bắc\n",
      "0.8565277\n"
     ]
    }
   ],
   "source": [
    "query = \"Điểm chuẩn ngành cntt năm 2023 cntt năm 2023 cntt năm 2023 cntt năm 2023 miền nam, bắc, trung theo thpt tại miền bắc \"\n",
    "processed_query = processing_text_for_query(query)\n",
    "print(processed_query)\n",
    "query_vector = encode_question(processed_query)\n",
    "\n",
    "cosine_similarities = [cosine_similarity(\n",
    "        query_vector, qv).flatten() for qv in df['question_vector']]\n",
    "\n",
    "best_match_index = np.argmax(cosine_similarities)\n",
    "print(np.max(cosine_similarities))\n",
    "\n"
   ]
  },
  {
   "cell_type": "code",
   "execution_count": 77,
   "metadata": {},
   "outputs": [
    {
     "name": "stdout",
     "output_type": "stream",
     "text": [
      "Cosine similarities:\n",
      "[[0.6962985]]\n"
     ]
    }
   ],
   "source": [
    "from sklearn.metrics.pairwise import cosine_similarity\n",
    "\n",
    "\n",
    "# Calculate cosine similarity\n",
    "cosine_similarities = cosine_similarity(query_vector,fifth_element)\n",
    "\n",
    "# Print cosine similarities\n",
    "print(\"Cosine similarities:\")\n",
    "print(cosine_similarities)\n",
    "\n",
    "\n"
   ]
  },
  {
   "cell_type": "code",
   "execution_count": 78,
   "metadata": {},
   "outputs": [
    {
     "name": "stderr",
     "output_type": "stream",
     "text": [
      "Asking to truncate to max_length but no maximum length is provided and the model has no predefined maximum length. Default to no truncation.\n"
     ]
    },
    {
     "name": "stdout",
     "output_type": "stream",
     "text": [
      "0.9009230920246669\n",
      "điểm_chuẩn ngành công_nghệ internet vạn_vật theo phương_thức thi thpt 2022 tại miền bắc\n",
      "điểm_chuẩn chỉ_tiêu ngành công_nghệ internet vạn_vật thi thpt 2022 tại miền bắc\n",
      "Điểm chuẩn, chỉ tiêu ngành công nghệ internet vạn vật thi thpt 2022 tại miền bắc?\n",
      "Cơ sở miền bắc của Học Viện không đào tạo ngành IoT\n"
     ]
    }
   ],
   "source": [
    "\n",
    "questions_vector = df['question_vector']\n",
    "processed_questions = df['processed_question']  \n",
    "questions = df['question']\n",
    "def get_response(user_query):\n",
    "    processed_query = processing_text_for_query(user_query)\n",
    "    query_vector = encode_question(processed_query)\n",
    "    # Tính toán độ tương đồng cosine giữa câu truy vấn của người dùng và các câu hỏi trong database\n",
    "    cosine_similarities = [cosine_similarity(\n",
    "        query_vector, qv).flatten() for qv in questions_vector]\n",
    "    jaccard_similarities = [jaccard_similarity(\n",
    "        processed_query, q) for q in  df['processed_question']]\n",
    "\n",
    "    # Kết hợp kết quả từ hai độ tương đồng\n",
    "    alpha = 0.6\n",
    "    beta = 0.4\n",
    "    # Chuyển đổi jaccard_similarities thành mảng một chiều\n",
    "    jaccard_array = np.array(jaccard_similarities).reshape(len(df['processed_question']),1)\n",
    "\n",
    "    # Kết hợp điểm số từ hai độ tương đồng\n",
    "    combined_scores = alpha * np.array(cosine_similarities) + beta * jaccard_array\n",
    "\n",
    "    best_match_index = np.argmax(combined_scores)\n",
    "    if np.max(combined_scores) > 0.6:\n",
    "        print(np.max(combined_scores))\n",
    "        print(processed_query)\n",
    "        print(processed_questions[best_match_index])\n",
    "        print(questions[best_match_index])\n",
    "        return answers[best_match_index]\n",
    "    else:\n",
    "        return \"Tôi không hiểu câu hỏi của bạn. Vui lòng đặt câu hỏi đầy đủ hơn.\"\n",
    "user_input = \"điểm chuẩn ngành iot theo phương thức thi thpt 2022  tại miền bắc??\"\n",
    "response = get_response(user_input)\n",
    "print(response)\n",
    "\n",
    "# # Chạy chatbot\n",
    "# user_input = input(\"You: \")\n",
    "# if user_input.lower() == \"exit\":\n",
    "#     break\n",
    "# response = get_response(user_input)\n",
    "# print(f\"Bot: {response}\")"
   ]
  }
 ],
 "metadata": {
  "kernelspec": {
   "display_name": "Python 3",
   "language": "python",
   "name": "python3"
  },
  "language_info": {
   "codemirror_mode": {
    "name": "ipython",
    "version": 3
   },
   "file_extension": ".py",
   "mimetype": "text/x-python",
   "name": "python",
   "nbconvert_exporter": "python",
   "pygments_lexer": "ipython3",
   "version": "3.10.6"
  }
 },
 "nbformat": 4,
 "nbformat_minor": 2
}
